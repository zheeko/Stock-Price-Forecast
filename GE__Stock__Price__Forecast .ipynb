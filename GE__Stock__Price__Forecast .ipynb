{
 "cells": [
  {
   "cell_type": "markdown",
   "id": "311f6a2f-3820-4074-b899-141e40c34d44",
   "metadata": {},
   "source": [
    "### General Electric Stock Price"
   ]
  },
  {
   "cell_type": "code",
   "execution_count": 216,
   "id": "2ac7e00f-308d-434c-93f5-c72fa6d1a7ce",
   "metadata": {
    "tags": []
   },
   "outputs": [
    {
     "name": "stdout",
     "output_type": "stream",
     "text": [
      "Requirement already satisfied: ipython-autotime in c:\\users\\transsnet\\anaconda3\\anaconda2\\lib\\site-packages (0.3.1)\n",
      "Requirement already satisfied: ipython in c:\\users\\transsnet\\anaconda3\\anaconda2\\lib\\site-packages (from ipython-autotime) (8.12.0)\n",
      "Requirement already satisfied: backcall in c:\\users\\transsnet\\anaconda3\\anaconda2\\lib\\site-packages (from ipython->ipython-autotime) (0.2.0)\n",
      "Requirement already satisfied: decorator in c:\\users\\transsnet\\anaconda3\\anaconda2\\lib\\site-packages (from ipython->ipython-autotime) (5.1.1)\n",
      "Requirement already satisfied: jedi>=0.16 in c:\\users\\transsnet\\anaconda3\\anaconda2\\lib\\site-packages (from ipython->ipython-autotime) (0.18.1)\n",
      "Requirement already satisfied: matplotlib-inline in c:\\users\\transsnet\\anaconda3\\anaconda2\\lib\\site-packages (from ipython->ipython-autotime) (0.1.6)\n",
      "Requirement already satisfied: pickleshare in c:\\users\\transsnet\\anaconda3\\anaconda2\\lib\\site-packages (from ipython->ipython-autotime) (0.7.5)\n",
      "Requirement already satisfied: prompt-toolkit!=3.0.37,<3.1.0,>=3.0.30 in c:\\users\\transsnet\\anaconda3\\anaconda2\\lib\\site-packages (from ipython->ipython-autotime) (3.0.36)\n",
      "Requirement already satisfied: pygments>=2.4.0 in c:\\users\\transsnet\\anaconda3\\anaconda2\\lib\\site-packages (from ipython->ipython-autotime) (2.15.1)\n",
      "Requirement already satisfied: stack-data in c:\\users\\transsnet\\anaconda3\\anaconda2\\lib\\site-packages (from ipython->ipython-autotime) (0.2.0)\n",
      "Requirement already satisfied: traitlets>=5 in c:\\users\\transsnet\\anaconda3\\anaconda2\\lib\\site-packages (from ipython->ipython-autotime) (5.7.1)\n",
      "Requirement already satisfied: colorama in c:\\users\\transsnet\\anaconda3\\anaconda2\\lib\\site-packages (from ipython->ipython-autotime) (0.4.6)\n",
      "Requirement already satisfied: parso<0.9.0,>=0.8.0 in c:\\users\\transsnet\\anaconda3\\anaconda2\\lib\\site-packages (from jedi>=0.16->ipython->ipython-autotime) (0.8.3)\n",
      "Requirement already satisfied: wcwidth in c:\\users\\transsnet\\anaconda3\\anaconda2\\lib\\site-packages (from prompt-toolkit!=3.0.37,<3.1.0,>=3.0.30->ipython->ipython-autotime) (0.2.5)\n",
      "Requirement already satisfied: executing in c:\\users\\transsnet\\anaconda3\\anaconda2\\lib\\site-packages (from stack-data->ipython->ipython-autotime) (0.8.3)\n",
      "Requirement already satisfied: asttokens in c:\\users\\transsnet\\anaconda3\\anaconda2\\lib\\site-packages (from stack-data->ipython->ipython-autotime) (2.0.5)\n",
      "Requirement already satisfied: pure-eval in c:\\users\\transsnet\\anaconda3\\anaconda2\\lib\\site-packages (from stack-data->ipython->ipython-autotime) (0.2.2)\n",
      "Requirement already satisfied: six in c:\\users\\transsnet\\anaconda3\\anaconda2\\lib\\site-packages (from asttokens->stack-data->ipython->ipython-autotime) (1.16.0)\n",
      "The autotime extension is already loaded. To reload it, use:\n",
      "  %reload_ext autotime\n",
      "time: 10.6 s (started: 2023-08-23 19:34:43 +01:00)\n"
     ]
    }
   ],
   "source": [
    "!pip install ipython-autotime\n",
    "%load_ext autotime"
   ]
  },
  {
   "cell_type": "code",
   "execution_count": 218,
   "id": "d92201eb-368a-4e00-b2ba-94a529fed24a",
   "metadata": {},
   "outputs": [
    {
     "name": "stdout",
     "output_type": "stream",
     "text": [
      "time: 0 ns (started: 2023-08-23 19:35:04 +01:00)\n"
     ]
    }
   ],
   "source": [
    "import numpy as np\n",
    "\n",
    "import matplotlib.pyplot as plt\n",
    "import seaborn as sns\n",
    "\n",
    "from sklearn.metrics import roc_auc_score, confusion_matrix, ConfusionMatrixDisplay, f1_score, accuracy_score\n",
    "from sklearn.linear_model import LogisticRegression\n",
    "from sklearn import svm\n",
    "from sklearn.svm import SVC\n",
    "from sklearn.model_selection import train_test_split, GridSearchCV\n",
    "from sklearn.preprocessing import StandardScaler\n",
    "from imblearn.over_sampling import SMOTE\n",
    "from sklearn.model_selection import cross_val_score\n",
    "import warnings\n",
    "import joblib # to extract data\n",
    "\n",
    "\n",
    "# Preprocessing of the data\n",
    "from sklearn.preprocessing import LabelEncoder, RobustScaler\n",
    "from sklearn.datasets import make_classification\n",
    "warnings.filterwarnings('ignore')"
   ]
  },
  {
   "cell_type": "code",
   "execution_count": 219,
   "id": "72bf150d-c433-4116-85ce-3d8a65dc72c2",
   "metadata": {},
   "outputs": [
    {
     "data": {
      "text/plain": [
       "'C:\\\\Users\\\\Transsnet'"
      ]
     },
     "execution_count": 219,
     "metadata": {},
     "output_type": "execute_result"
    },
    {
     "name": "stdout",
     "output_type": "stream",
     "text": [
      "time: 0 ns (started: 2023-08-23 19:35:04 +01:00)\n"
     ]
    }
   ],
   "source": [
    "# operating system\n",
    "import os\n",
    "os.getcwd()"
   ]
  },
  {
   "cell_type": "code",
   "execution_count": 220,
   "id": "37d5a993-a401-45fb-bbe6-392cd6293e95",
   "metadata": {},
   "outputs": [
    {
     "data": {
      "text/plain": [
       "matplotlib.dates.MonthLocator"
      ]
     },
     "execution_count": 220,
     "metadata": {},
     "output_type": "execute_result"
    },
    {
     "name": "stdout",
     "output_type": "stream",
     "text": [
      "time: 0 ns (started: 2023-08-23 19:35:04 +01:00)\n"
     ]
    }
   ],
   "source": [
    "# import pandas lib as pd\n",
    "import pandas as pd\n",
    "\n",
    "from matplotlib import dates\n",
    "\n",
    "dates.MonthLocator\n"
   ]
  },
  {
   "cell_type": "code",
   "execution_count": 221,
   "id": "28101022-b5b2-45d0-b392-39f033ec487e",
   "metadata": {
    "tags": []
   },
   "outputs": [
    {
     "data": {
      "text/html": [
       "<div>\n",
       "<style scoped>\n",
       "    .dataframe tbody tr th:only-of-type {\n",
       "        vertical-align: middle;\n",
       "    }\n",
       "\n",
       "    .dataframe tbody tr th {\n",
       "        vertical-align: top;\n",
       "    }\n",
       "\n",
       "    .dataframe thead th {\n",
       "        text-align: right;\n",
       "    }\n",
       "</style>\n",
       "<table border=\"1\" class=\"dataframe\">\n",
       "  <thead>\n",
       "    <tr style=\"text-align: right;\">\n",
       "      <th></th>\n",
       "      <th>Time_of_trade(hh:mm:ss)</th>\n",
       "      <th>Trade_Time(Secs)</th>\n",
       "      <th>Waiting_Time(Secs)</th>\n",
       "      <th>Trading_Price(US$)</th>\n",
       "      <th>Log</th>\n",
       "      <th>Returns(US$)</th>\n",
       "      <th>Stock_Movement</th>\n",
       "    </tr>\n",
       "  </thead>\n",
       "  <tbody>\n",
       "    <tr>\n",
       "      <th>0</th>\n",
       "      <td>93027</td>\n",
       "      <td>34227</td>\n",
       "      <td>8</td>\n",
       "      <td>117.8750</td>\n",
       "      <td>0.000000</td>\n",
       "      <td>0.0000</td>\n",
       "      <td>Flat</td>\n",
       "    </tr>\n",
       "    <tr>\n",
       "      <th>1</th>\n",
       "      <td>93035</td>\n",
       "      <td>34235</td>\n",
       "      <td>11</td>\n",
       "      <td>117.8750</td>\n",
       "      <td>0.000530</td>\n",
       "      <td>0.0625</td>\n",
       "      <td>Gain</td>\n",
       "    </tr>\n",
       "    <tr>\n",
       "      <th>2</th>\n",
       "      <td>93046</td>\n",
       "      <td>34246</td>\n",
       "      <td>3</td>\n",
       "      <td>117.9375</td>\n",
       "      <td>0.000000</td>\n",
       "      <td>0.0000</td>\n",
       "      <td>Flat</td>\n",
       "    </tr>\n",
       "    <tr>\n",
       "      <th>3</th>\n",
       "      <td>93049</td>\n",
       "      <td>34249</td>\n",
       "      <td>5</td>\n",
       "      <td>117.9375</td>\n",
       "      <td>-0.000530</td>\n",
       "      <td>-0.0625</td>\n",
       "      <td>Loss</td>\n",
       "    </tr>\n",
       "    <tr>\n",
       "      <th>4</th>\n",
       "      <td>93054</td>\n",
       "      <td>34254</td>\n",
       "      <td>32</td>\n",
       "      <td>117.8750</td>\n",
       "      <td>0.000000</td>\n",
       "      <td>0.0000</td>\n",
       "      <td>Flat</td>\n",
       "    </tr>\n",
       "    <tr>\n",
       "      <th>...</th>\n",
       "      <td>...</td>\n",
       "      <td>...</td>\n",
       "      <td>...</td>\n",
       "      <td>...</td>\n",
       "      <td>...</td>\n",
       "      <td>...</td>\n",
       "      <td>...</td>\n",
       "    </tr>\n",
       "    <tr>\n",
       "      <th>55554</th>\n",
       "      <td>160033</td>\n",
       "      <td>57633</td>\n",
       "      <td>10</td>\n",
       "      <td>135.6250</td>\n",
       "      <td>-0.000922</td>\n",
       "      <td>-0.1250</td>\n",
       "      <td>Loss</td>\n",
       "    </tr>\n",
       "    <tr>\n",
       "      <th>55555</th>\n",
       "      <td>160043</td>\n",
       "      <td>57643</td>\n",
       "      <td>4</td>\n",
       "      <td>135.5000</td>\n",
       "      <td>0.000461</td>\n",
       "      <td>0.0625</td>\n",
       "      <td>Gain</td>\n",
       "    </tr>\n",
       "    <tr>\n",
       "      <th>55556</th>\n",
       "      <td>160047</td>\n",
       "      <td>57647</td>\n",
       "      <td>3</td>\n",
       "      <td>135.5625</td>\n",
       "      <td>0.000461</td>\n",
       "      <td>0.0625</td>\n",
       "      <td>Gain</td>\n",
       "    </tr>\n",
       "    <tr>\n",
       "      <th>55557</th>\n",
       "      <td>160050</td>\n",
       "      <td>57650</td>\n",
       "      <td>9</td>\n",
       "      <td>135.6250</td>\n",
       "      <td>-0.000461</td>\n",
       "      <td>-0.0625</td>\n",
       "      <td>Loss</td>\n",
       "    </tr>\n",
       "    <tr>\n",
       "      <th>55558</th>\n",
       "      <td>160059</td>\n",
       "      <td>57659</td>\n",
       "      <td>12</td>\n",
       "      <td>135.5625</td>\n",
       "      <td>0.000000</td>\n",
       "      <td>-135.5625</td>\n",
       "      <td>Loss</td>\n",
       "    </tr>\n",
       "  </tbody>\n",
       "</table>\n",
       "<p>55559 rows × 7 columns</p>\n",
       "</div>"
      ],
      "text/plain": [
       "       Time_of_trade(hh:mm:ss)  Trade_Time(Secs)  Waiting_Time(Secs)  \\\n",
       "0                        93027             34227                   8   \n",
       "1                        93035             34235                  11   \n",
       "2                        93046             34246                   3   \n",
       "3                        93049             34249                   5   \n",
       "4                        93054             34254                  32   \n",
       "...                        ...               ...                 ...   \n",
       "55554                   160033             57633                  10   \n",
       "55555                   160043             57643                   4   \n",
       "55556                   160047             57647                   3   \n",
       "55557                   160050             57650                   9   \n",
       "55558                   160059             57659                  12   \n",
       "\n",
       "       Trading_Price(US$)       Log  Returns(US$) Stock_Movement  \n",
       "0                117.8750  0.000000        0.0000           Flat  \n",
       "1                117.8750  0.000530        0.0625           Gain  \n",
       "2                117.9375  0.000000        0.0000           Flat  \n",
       "3                117.9375 -0.000530       -0.0625           Loss  \n",
       "4                117.8750  0.000000        0.0000           Flat  \n",
       "...                   ...       ...           ...            ...  \n",
       "55554            135.6250 -0.000922       -0.1250           Loss  \n",
       "55555            135.5000  0.000461        0.0625           Gain  \n",
       "55556            135.5625  0.000461        0.0625           Gain  \n",
       "55557            135.6250 -0.000461       -0.0625           Loss  \n",
       "55558            135.5625  0.000000     -135.5625           Loss  \n",
       "\n",
       "[55559 rows x 7 columns]"
      ]
     },
     "execution_count": 221,
     "metadata": {},
     "output_type": "execute_result"
    },
    {
     "name": "stdout",
     "output_type": "stream",
     "text": [
      "time: 78 ms (started: 2023-08-23 19:35:04 +01:00)\n"
     ]
    }
   ],
   "source": [
    "import pandas as pd\n",
    "\n",
    "# Read the Excel file\n",
    "df = pd.read_csv('GE_Stock__Price__Data.csv')\n",
    "df\n"
   ]
  },
  {
   "cell_type": "code",
   "execution_count": 222,
   "id": "e4d37bd5-664f-4f67-abd9-f5e1a05fb100",
   "metadata": {
    "tags": []
   },
   "outputs": [
    {
     "data": {
      "text/html": [
       "<div>\n",
       "<style scoped>\n",
       "    .dataframe tbody tr th:only-of-type {\n",
       "        vertical-align: middle;\n",
       "    }\n",
       "\n",
       "    .dataframe tbody tr th {\n",
       "        vertical-align: top;\n",
       "    }\n",
       "\n",
       "    .dataframe thead th {\n",
       "        text-align: right;\n",
       "    }\n",
       "</style>\n",
       "<table border=\"1\" class=\"dataframe\">\n",
       "  <thead>\n",
       "    <tr style=\"text-align: right;\">\n",
       "      <th></th>\n",
       "      <th>Time_of_trade(hh:mm:ss)</th>\n",
       "      <th>Trade_Time(Secs)</th>\n",
       "      <th>Waiting_Time(Secs)</th>\n",
       "      <th>Trading_Price(US$)</th>\n",
       "      <th>Log</th>\n",
       "      <th>Returns(US$)</th>\n",
       "      <th>Stock_Movement</th>\n",
       "    </tr>\n",
       "  </thead>\n",
       "  <tbody>\n",
       "    <tr>\n",
       "      <th>0</th>\n",
       "      <td>93027</td>\n",
       "      <td>34227</td>\n",
       "      <td>8</td>\n",
       "      <td>117.8750</td>\n",
       "      <td>0.00000</td>\n",
       "      <td>0.0000</td>\n",
       "      <td>Flat</td>\n",
       "    </tr>\n",
       "    <tr>\n",
       "      <th>1</th>\n",
       "      <td>93035</td>\n",
       "      <td>34235</td>\n",
       "      <td>11</td>\n",
       "      <td>117.8750</td>\n",
       "      <td>0.00053</td>\n",
       "      <td>0.0625</td>\n",
       "      <td>Gain</td>\n",
       "    </tr>\n",
       "    <tr>\n",
       "      <th>2</th>\n",
       "      <td>93046</td>\n",
       "      <td>34246</td>\n",
       "      <td>3</td>\n",
       "      <td>117.9375</td>\n",
       "      <td>0.00000</td>\n",
       "      <td>0.0000</td>\n",
       "      <td>Flat</td>\n",
       "    </tr>\n",
       "    <tr>\n",
       "      <th>3</th>\n",
       "      <td>93049</td>\n",
       "      <td>34249</td>\n",
       "      <td>5</td>\n",
       "      <td>117.9375</td>\n",
       "      <td>-0.00053</td>\n",
       "      <td>-0.0625</td>\n",
       "      <td>Loss</td>\n",
       "    </tr>\n",
       "    <tr>\n",
       "      <th>4</th>\n",
       "      <td>93054</td>\n",
       "      <td>34254</td>\n",
       "      <td>32</td>\n",
       "      <td>117.8750</td>\n",
       "      <td>0.00000</td>\n",
       "      <td>0.0000</td>\n",
       "      <td>Flat</td>\n",
       "    </tr>\n",
       "  </tbody>\n",
       "</table>\n",
       "</div>"
      ],
      "text/plain": [
       "   Time_of_trade(hh:mm:ss)  Trade_Time(Secs)  Waiting_Time(Secs)  \\\n",
       "0                    93027             34227                   8   \n",
       "1                    93035             34235                  11   \n",
       "2                    93046             34246                   3   \n",
       "3                    93049             34249                   5   \n",
       "4                    93054             34254                  32   \n",
       "\n",
       "   Trading_Price(US$)      Log  Returns(US$) Stock_Movement  \n",
       "0            117.8750  0.00000        0.0000           Flat  \n",
       "1            117.8750  0.00053        0.0625           Gain  \n",
       "2            117.9375  0.00000        0.0000           Flat  \n",
       "3            117.9375 -0.00053       -0.0625           Loss  \n",
       "4            117.8750  0.00000        0.0000           Flat  "
      ]
     },
     "execution_count": 222,
     "metadata": {},
     "output_type": "execute_result"
    },
    {
     "name": "stdout",
     "output_type": "stream",
     "text": [
      "time: 15 ms (started: 2023-08-23 19:35:13 +01:00)\n"
     ]
    }
   ],
   "source": [
    "df.head()"
   ]
  },
  {
   "cell_type": "code",
   "execution_count": 223,
   "id": "8ee1befe-3830-41c1-af59-fc3326eb9c9a",
   "metadata": {
    "tags": []
   },
   "outputs": [
    {
     "data": {
      "text/html": [
       "<div>\n",
       "<style scoped>\n",
       "    .dataframe tbody tr th:only-of-type {\n",
       "        vertical-align: middle;\n",
       "    }\n",
       "\n",
       "    .dataframe tbody tr th {\n",
       "        vertical-align: top;\n",
       "    }\n",
       "\n",
       "    .dataframe thead th {\n",
       "        text-align: right;\n",
       "    }\n",
       "</style>\n",
       "<table border=\"1\" class=\"dataframe\">\n",
       "  <thead>\n",
       "    <tr style=\"text-align: right;\">\n",
       "      <th></th>\n",
       "      <th>Time_of_trade(hh:mm:ss)</th>\n",
       "      <th>Trade_Time(Secs)</th>\n",
       "      <th>Waiting_Time(Secs)</th>\n",
       "      <th>Trading_Price(US$)</th>\n",
       "      <th>Log</th>\n",
       "      <th>Returns(US$)</th>\n",
       "      <th>Stock_Movement</th>\n",
       "    </tr>\n",
       "  </thead>\n",
       "  <tbody>\n",
       "    <tr>\n",
       "      <th>55554</th>\n",
       "      <td>160033</td>\n",
       "      <td>57633</td>\n",
       "      <td>10</td>\n",
       "      <td>135.6250</td>\n",
       "      <td>-0.000922</td>\n",
       "      <td>-0.1250</td>\n",
       "      <td>Loss</td>\n",
       "    </tr>\n",
       "    <tr>\n",
       "      <th>55555</th>\n",
       "      <td>160043</td>\n",
       "      <td>57643</td>\n",
       "      <td>4</td>\n",
       "      <td>135.5000</td>\n",
       "      <td>0.000461</td>\n",
       "      <td>0.0625</td>\n",
       "      <td>Gain</td>\n",
       "    </tr>\n",
       "    <tr>\n",
       "      <th>55556</th>\n",
       "      <td>160047</td>\n",
       "      <td>57647</td>\n",
       "      <td>3</td>\n",
       "      <td>135.5625</td>\n",
       "      <td>0.000461</td>\n",
       "      <td>0.0625</td>\n",
       "      <td>Gain</td>\n",
       "    </tr>\n",
       "    <tr>\n",
       "      <th>55557</th>\n",
       "      <td>160050</td>\n",
       "      <td>57650</td>\n",
       "      <td>9</td>\n",
       "      <td>135.6250</td>\n",
       "      <td>-0.000461</td>\n",
       "      <td>-0.0625</td>\n",
       "      <td>Loss</td>\n",
       "    </tr>\n",
       "    <tr>\n",
       "      <th>55558</th>\n",
       "      <td>160059</td>\n",
       "      <td>57659</td>\n",
       "      <td>12</td>\n",
       "      <td>135.5625</td>\n",
       "      <td>0.000000</td>\n",
       "      <td>-135.5625</td>\n",
       "      <td>Loss</td>\n",
       "    </tr>\n",
       "  </tbody>\n",
       "</table>\n",
       "</div>"
      ],
      "text/plain": [
       "       Time_of_trade(hh:mm:ss)  Trade_Time(Secs)  Waiting_Time(Secs)  \\\n",
       "55554                   160033             57633                  10   \n",
       "55555                   160043             57643                   4   \n",
       "55556                   160047             57647                   3   \n",
       "55557                   160050             57650                   9   \n",
       "55558                   160059             57659                  12   \n",
       "\n",
       "       Trading_Price(US$)       Log  Returns(US$) Stock_Movement  \n",
       "55554            135.6250 -0.000922       -0.1250           Loss  \n",
       "55555            135.5000  0.000461        0.0625           Gain  \n",
       "55556            135.5625  0.000461        0.0625           Gain  \n",
       "55557            135.6250 -0.000461       -0.0625           Loss  \n",
       "55558            135.5625  0.000000     -135.5625           Loss  "
      ]
     },
     "execution_count": 223,
     "metadata": {},
     "output_type": "execute_result"
    },
    {
     "name": "stdout",
     "output_type": "stream",
     "text": [
      "time: 16 ms (started: 2023-08-23 19:35:13 +01:00)\n"
     ]
    }
   ],
   "source": [
    "df.tail()"
   ]
  },
  {
   "cell_type": "code",
   "execution_count": 224,
   "id": "5dca1439-d016-428d-a7ab-5464eaacc32f",
   "metadata": {},
   "outputs": [
    {
     "data": {
      "text/html": [
       "<div>\n",
       "<style scoped>\n",
       "    .dataframe tbody tr th:only-of-type {\n",
       "        vertical-align: middle;\n",
       "    }\n",
       "\n",
       "    .dataframe tbody tr th {\n",
       "        vertical-align: top;\n",
       "    }\n",
       "\n",
       "    .dataframe thead th {\n",
       "        text-align: right;\n",
       "    }\n",
       "</style>\n",
       "<table border=\"1\" class=\"dataframe\">\n",
       "  <thead>\n",
       "    <tr style=\"text-align: right;\">\n",
       "      <th></th>\n",
       "      <th>Time_of_trade(hh:mm:ss)</th>\n",
       "      <th>Trade_Time(Secs)</th>\n",
       "      <th>Waiting_Time(Secs)</th>\n",
       "      <th>Trading_Price(US$)</th>\n",
       "      <th>Log</th>\n",
       "      <th>Returns(US$)</th>\n",
       "    </tr>\n",
       "  </thead>\n",
       "  <tbody>\n",
       "    <tr>\n",
       "      <th>count</th>\n",
       "      <td>55559.000000</td>\n",
       "      <td>55559.000000</td>\n",
       "      <td>55559.000000</td>\n",
       "      <td>55559.000000</td>\n",
       "      <td>55559.000000</td>\n",
       "      <td>55559.000000</td>\n",
       "    </tr>\n",
       "    <tr>\n",
       "      <th>mean</th>\n",
       "      <td>124851.592991</td>\n",
       "      <td>45704.698339</td>\n",
       "      <td>8.852355</td>\n",
       "      <td>122.739774</td>\n",
       "      <td>0.000002</td>\n",
       "      <td>-0.002122</td>\n",
       "    </tr>\n",
       "    <tr>\n",
       "      <th>std</th>\n",
       "      <td>20617.028795</td>\n",
       "      <td>7429.289924</td>\n",
       "      <td>10.369622</td>\n",
       "      <td>4.891358</td>\n",
       "      <td>0.000401</td>\n",
       "      <td>0.577518</td>\n",
       "    </tr>\n",
       "    <tr>\n",
       "      <th>min</th>\n",
       "      <td>93011.000000</td>\n",
       "      <td>34211.000000</td>\n",
       "      <td>0.000000</td>\n",
       "      <td>114.625000</td>\n",
       "      <td>-0.010411</td>\n",
       "      <td>-135.562500</td>\n",
       "    </tr>\n",
       "    <tr>\n",
       "      <th>25%</th>\n",
       "      <td>104533.500000</td>\n",
       "      <td>38733.500000</td>\n",
       "      <td>3.000000</td>\n",
       "      <td>119.437500</td>\n",
       "      <td>0.000000</td>\n",
       "      <td>0.000000</td>\n",
       "    </tr>\n",
       "    <tr>\n",
       "      <th>50%</th>\n",
       "      <td>123358.000000</td>\n",
       "      <td>45238.000000</td>\n",
       "      <td>5.000000</td>\n",
       "      <td>121.875000</td>\n",
       "      <td>0.000000</td>\n",
       "      <td>0.000000</td>\n",
       "    </tr>\n",
       "    <tr>\n",
       "      <th>75%</th>\n",
       "      <td>144012.500000</td>\n",
       "      <td>52812.500000</td>\n",
       "      <td>11.000000</td>\n",
       "      <td>125.000000</td>\n",
       "      <td>0.000000</td>\n",
       "      <td>0.000000</td>\n",
       "    </tr>\n",
       "    <tr>\n",
       "      <th>max</th>\n",
       "      <td>160420.000000</td>\n",
       "      <td>57860.000000</td>\n",
       "      <td>195.000000</td>\n",
       "      <td>136.187500</td>\n",
       "      <td>0.011982</td>\n",
       "      <td>1.875000</td>\n",
       "    </tr>\n",
       "  </tbody>\n",
       "</table>\n",
       "</div>"
      ],
      "text/plain": [
       "       Time_of_trade(hh:mm:ss)  Trade_Time(Secs)  Waiting_Time(Secs)  \\\n",
       "count             55559.000000      55559.000000        55559.000000   \n",
       "mean             124851.592991      45704.698339            8.852355   \n",
       "std               20617.028795       7429.289924           10.369622   \n",
       "min               93011.000000      34211.000000            0.000000   \n",
       "25%              104533.500000      38733.500000            3.000000   \n",
       "50%              123358.000000      45238.000000            5.000000   \n",
       "75%              144012.500000      52812.500000           11.000000   \n",
       "max              160420.000000      57860.000000          195.000000   \n",
       "\n",
       "       Trading_Price(US$)           Log  Returns(US$)  \n",
       "count        55559.000000  55559.000000  55559.000000  \n",
       "mean           122.739774      0.000002     -0.002122  \n",
       "std              4.891358      0.000401      0.577518  \n",
       "min            114.625000     -0.010411   -135.562500  \n",
       "25%            119.437500      0.000000      0.000000  \n",
       "50%            121.875000      0.000000      0.000000  \n",
       "75%            125.000000      0.000000      0.000000  \n",
       "max            136.187500      0.011982      1.875000  "
      ]
     },
     "execution_count": 224,
     "metadata": {},
     "output_type": "execute_result"
    },
    {
     "name": "stdout",
     "output_type": "stream",
     "text": [
      "time: 63 ms (started: 2023-08-23 19:35:14 +01:00)\n"
     ]
    }
   ],
   "source": [
    "df.describe()"
   ]
  },
  {
   "cell_type": "code",
   "execution_count": 225,
   "id": "520458cf-94f2-4467-87b5-006f37879205",
   "metadata": {},
   "outputs": [
    {
     "name": "stdout",
     "output_type": "stream",
     "text": [
      "The stock price movement are ['Flat' 'Gain' 'Loss']\n",
      "time: 0 ns (started: 2023-08-23 19:35:14 +01:00)\n"
     ]
    }
   ],
   "source": [
    "print(f'The stock price movement are {df[\"\"\"Stock_Movement\"\"\"].unique()}')\n"
   ]
  },
  {
   "cell_type": "markdown",
   "id": "0445a9f7-1272-4291-9591-d1a91e40ec3f",
   "metadata": {},
   "source": [
    "There are 7 unique stock price movement (target class)"
   ]
  },
  {
   "cell_type": "markdown",
   "id": "0760b580-f461-4a06-9c78-de556fc43d36",
   "metadata": {},
   "source": [
    "### Data preprocessing\n",
    "#### Data cleaning\n",
    "#### Duplicates dropping\n"
   ]
  },
  {
   "cell_type": "code",
   "execution_count": 226,
   "id": "7e0eae55-4815-46d3-b989-cf8b9a02eae3",
   "metadata": {},
   "outputs": [
    {
     "name": "stdout",
     "output_type": "stream",
     "text": [
      "<class 'pandas.core.frame.DataFrame'>\n",
      "RangeIndex: 55559 entries, 0 to 55558\n",
      "Data columns (total 7 columns):\n",
      " #   Column                   Non-Null Count  Dtype  \n",
      "---  ------                   --------------  -----  \n",
      " 0   Time_of_trade(hh:mm:ss)  55559 non-null  int64  \n",
      " 1   Trade_Time(Secs)         55559 non-null  int64  \n",
      " 2   Waiting_Time(Secs)       55559 non-null  int64  \n",
      " 3   Trading_Price(US$)       55559 non-null  float64\n",
      " 4   Log                      55559 non-null  float64\n",
      " 5   Returns(US$)             55559 non-null  float64\n",
      " 6   Stock_Movement           55559 non-null  object \n",
      "dtypes: float64(3), int64(3), object(1)\n",
      "memory usage: 3.0+ MB\n",
      "time: 32 ms (started: 2023-08-23 19:35:15 +01:00)\n"
     ]
    }
   ],
   "source": [
    "df.info()"
   ]
  },
  {
   "cell_type": "code",
   "execution_count": 227,
   "id": "d9cd0581-ba12-4b3c-a55e-6820dfcb80f7",
   "metadata": {
    "tags": []
   },
   "outputs": [
    {
     "data": {
      "text/plain": [
       "Time_of_trade(hh:mm:ss)    0\n",
       "Trade_Time(Secs)           0\n",
       "Waiting_Time(Secs)         0\n",
       "Trading_Price(US$)         0\n",
       "Log                        0\n",
       "Returns(US$)               0\n",
       "Stock_Movement             0\n",
       "dtype: int64"
      ]
     },
     "execution_count": 227,
     "metadata": {},
     "output_type": "execute_result"
    },
    {
     "name": "stdout",
     "output_type": "stream",
     "text": [
      "time: 32 ms (started: 2023-08-23 19:35:16 +01:00)\n"
     ]
    }
   ],
   "source": [
    "#Checking if there are null values in the dataset\n",
    "df.isnull().sum()"
   ]
  },
  {
   "cell_type": "markdown",
   "id": "144dbd52-a593-4d9e-b7bd-9490c572a575",
   "metadata": {},
   "source": [
    "No missing values in the training dataset but we have to take into consideration if any missing data may appear in the test set."
   ]
  },
  {
   "cell_type": "markdown",
   "id": "900c8391-97cb-4833-840e-48011a7fe3f6",
   "metadata": {},
   "source": [
    "### Dropping irrelavant features"
   ]
  },
  {
   "cell_type": "code",
   "execution_count": 228,
   "id": "80b667fd-fad2-47cf-9a0c-25c19b6b9209",
   "metadata": {
    "tags": []
   },
   "outputs": [
    {
     "name": "stdout",
     "output_type": "stream",
     "text": [
      "time: 15 ms (started: 2023-08-23 19:35:17 +01:00)\n"
     ]
    }
   ],
   "source": [
    "df.drop(['Time_of_trade(hh:mm:ss)', 'Log'] , axis=1, inplace=True)     "
   ]
  },
  {
   "cell_type": "code",
   "execution_count": 229,
   "id": "7747e17f-2f65-4232-aaec-c80099044538",
   "metadata": {
    "tags": []
   },
   "outputs": [
    {
     "name": "stdout",
     "output_type": "stream",
     "text": [
      "time: 16 ms (started: 2023-08-23 19:35:17 +01:00)\n"
     ]
    }
   ],
   "source": [
    "df.drop(['Returns(US$)'] , axis=1, inplace=True) "
   ]
  },
  {
   "cell_type": "code",
   "execution_count": 230,
   "id": "673835e3-69e7-4d8a-b2dd-f7340e6f2750",
   "metadata": {
    "tags": []
   },
   "outputs": [
    {
     "name": "stdout",
     "output_type": "stream",
     "text": [
      "Requirement already satisfied: chart_studio in c:\\users\\transsnet\\anaconda3\\anaconda2\\lib\\site-packages (1.1.0)\n",
      "Requirement already satisfied: plotly in c:\\users\\transsnet\\anaconda3\\anaconda2\\lib\\site-packages (from chart_studio) (5.9.0)\n",
      "Requirement already satisfied: requests in c:\\users\\transsnet\\anaconda3\\anaconda2\\lib\\site-packages (from chart_studio) (2.29.0)\n",
      "Requirement already satisfied: retrying>=1.3.3 in c:\\users\\transsnet\\anaconda3\\anaconda2\\lib\\site-packages (from chart_studio) (1.3.4)\n",
      "Requirement already satisfied: six in c:\\users\\transsnet\\anaconda3\\anaconda2\\lib\\site-packages (from chart_studio) (1.16.0)\n",
      "Requirement already satisfied: tenacity>=6.2.0 in c:\\users\\transsnet\\anaconda3\\anaconda2\\lib\\site-packages (from plotly->chart_studio) (8.2.2)\n",
      "Requirement already satisfied: charset-normalizer<4,>=2 in c:\\users\\transsnet\\anaconda3\\anaconda2\\lib\\site-packages (from requests->chart_studio) (2.0.4)\n",
      "Requirement already satisfied: idna<4,>=2.5 in c:\\users\\transsnet\\anaconda3\\anaconda2\\lib\\site-packages (from requests->chart_studio) (3.4)\n",
      "Requirement already satisfied: urllib3<1.27,>=1.21.1 in c:\\users\\transsnet\\anaconda3\\anaconda2\\lib\\site-packages (from requests->chart_studio) (1.26.16)\n",
      "Requirement already satisfied: certifi>=2017.4.17 in c:\\users\\transsnet\\anaconda3\\anaconda2\\lib\\site-packages (from requests->chart_studio) (2023.5.7)\n",
      "time: 10.4 s (started: 2023-08-23 19:35:17 +01:00)\n"
     ]
    }
   ],
   "source": [
    "!pip install chart_studio"
   ]
  },
  {
   "cell_type": "code",
   "execution_count": 231,
   "id": "16b2b7e4-ec99-4dec-9e8c-97219afbbe3b",
   "metadata": {},
   "outputs": [
    {
     "data": {
      "text/html": [
       "        <script type=\"text/javascript\">\n",
       "        window.PlotlyConfig = {MathJaxConfig: 'local'};\n",
       "        if (window.MathJax && window.MathJax.Hub && window.MathJax.Hub.Config) {window.MathJax.Hub.Config({SVG: {font: \"STIX-Web\"}});}\n",
       "        if (typeof require !== 'undefined') {\n",
       "        require.undef(\"plotly\");\n",
       "        requirejs.config({\n",
       "            paths: {\n",
       "                'plotly': ['https://cdn.plot.ly/plotly-2.12.1.min']\n",
       "            }\n",
       "        });\n",
       "        require(['plotly'], function(Plotly) {\n",
       "            window._Plotly = Plotly;\n",
       "        });\n",
       "        }\n",
       "        </script>\n",
       "        "
      ]
     },
     "metadata": {},
     "output_type": "display_data"
    },
    {
     "name": "stdout",
     "output_type": "stream",
     "text": [
      "time: 16 ms (started: 2023-08-23 19:35:28 +01:00)\n"
     ]
    }
   ],
   "source": [
    "import chart_studio.plotly as py\n",
    "import plotly.graph_objs as go\n",
    "from plotly.offline import plot\n",
    "\n",
    "from plotly.offline import download_plotlyjs, init_notebook_mode, plot, iplot\n",
    "init_notebook_mode(connected=True)"
   ]
  },
  {
   "cell_type": "code",
   "execution_count": 232,
   "id": "18bc79e8-3e52-4960-9914-7ee5e666c124",
   "metadata": {
    "tags": []
   },
   "outputs": [
    {
     "name": "stdout",
     "output_type": "stream",
     "text": [
      "Requirement already satisfied: pandas_datareader in c:\\users\\transsnet\\anaconda3\\anaconda2\\lib\\site-packages (0.10.0)\n",
      "Requirement already satisfied: lxml in c:\\users\\transsnet\\anaconda3\\anaconda2\\lib\\site-packages (from pandas_datareader) (4.9.2)\n",
      "Requirement already satisfied: pandas>=0.23 in c:\\users\\transsnet\\anaconda3\\anaconda2\\lib\\site-packages (from pandas_datareader) (1.5.3)\n",
      "Requirement already satisfied: requests>=2.19.0 in c:\\users\\transsnet\\anaconda3\\anaconda2\\lib\\site-packages (from pandas_datareader) (2.29.0)\n",
      "Requirement already satisfied: python-dateutil>=2.8.1 in c:\\users\\transsnet\\anaconda3\\anaconda2\\lib\\site-packages (from pandas>=0.23->pandas_datareader) (2.8.2)\n",
      "Requirement already satisfied: pytz>=2020.1 in c:\\users\\transsnet\\anaconda3\\anaconda2\\lib\\site-packages (from pandas>=0.23->pandas_datareader) (2022.7)\n",
      "Requirement already satisfied: numpy>=1.21.0 in c:\\users\\transsnet\\anaconda3\\anaconda2\\lib\\site-packages (from pandas>=0.23->pandas_datareader) (1.24.3)\n",
      "Requirement already satisfied: charset-normalizer<4,>=2 in c:\\users\\transsnet\\anaconda3\\anaconda2\\lib\\site-packages (from requests>=2.19.0->pandas_datareader) (2.0.4)\n",
      "Requirement already satisfied: idna<4,>=2.5 in c:\\users\\transsnet\\anaconda3\\anaconda2\\lib\\site-packages (from requests>=2.19.0->pandas_datareader) (3.4)\n",
      "Requirement already satisfied: urllib3<1.27,>=1.21.1 in c:\\users\\transsnet\\anaconda3\\anaconda2\\lib\\site-packages (from requests>=2.19.0->pandas_datareader) (1.26.16)\n",
      "Requirement already satisfied: certifi>=2017.4.17 in c:\\users\\transsnet\\anaconda3\\anaconda2\\lib\\site-packages (from requests>=2.19.0->pandas_datareader) (2023.5.7)\n",
      "Requirement already satisfied: six>=1.5 in c:\\users\\transsnet\\anaconda3\\anaconda2\\lib\\site-packages (from python-dateutil>=2.8.1->pandas>=0.23->pandas_datareader) (1.16.0)\n",
      "time: 10.5 s (started: 2023-08-23 19:35:28 +01:00)\n"
     ]
    }
   ],
   "source": [
    "!pip install pandas_datareader"
   ]
  },
  {
   "cell_type": "code",
   "execution_count": 233,
   "id": "e3dacc8b-9044-4a1d-89ed-b1d64812e884",
   "metadata": {},
   "outputs": [
    {
     "data": {
      "image/png": "[encoded data removed]",
      "text/plain": [
       "<Figure size 1600x800 with 1 Axes>"
      ]
     },
     "metadata": {},
     "output_type": "display_data"
    },
    {
     "name": "stdout",
     "output_type": "stream",
     "text": [
      "time: 547 ms (started: 2023-08-23 19:35:38 +01:00)\n"
     ]
    }
   ],
   "source": [
    "df['Trading_Price(US$)'].plot(label='trend', figsize=(16,8), title=\"General Electric Stock Price\")\n",
    "plt.legend();"
   ]
  },
  {
   "cell_type": "markdown",
   "id": "1f294dea-acf9-4fff-9215-81bb4d31fa9a",
   "metadata": {},
   "source": [
    "### EDA\n",
    "### 1- Count and distribution of all stock movement categories:"
   ]
  },
  {
   "cell_type": "code",
   "execution_count": 234,
   "id": "1c0e2ff5-1be9-4b48-a137-001fe474afb1",
   "metadata": {},
   "outputs": [
    {
     "name": "stdout",
     "output_type": "stream",
     "text": [
      "Flat    33006\n",
      "Gain    11555\n",
      "Loss    10998\n",
      "Name: Stock_Movement, dtype: int64\n"
     ]
    },
    {
     "data": {
      "image/png": "[encoded data removed]",
      "text/plain": [
       "<Figure size 640x480 with 1 Axes>"
      ]
     },
     "metadata": {},
     "output_type": "display_data"
    },
    {
     "name": "stdout",
     "output_type": "stream",
     "text": [
      "time: 188 ms (started: 2023-08-23 19:35:39 +01:00)\n"
     ]
    }
   ],
   "source": [
    "print(df['Stock_Movement'].value_counts())\n",
    "_ = sns.countplot(x='Stock_Movement', data=df)"
   ]
  },
  {
   "cell_type": "markdown",
   "id": "2e7d886e-060c-4c10-b859-095622060ac0",
   "metadata": {},
   "source": [
    "We can notice that there is an imbalance in the data we need to handle."
   ]
  },
  {
   "cell_type": "markdown",
   "id": "ef9d5cb2-2f1b-4845-95c0-4a334a2e6417",
   "metadata": {},
   "source": [
    "### 2- Distribution of numerical features:"
   ]
  },
  {
   "cell_type": "code",
   "execution_count": 235,
   "id": "11b8eeb5-ff5a-43a4-8fd5-7f75e55aa6be",
   "metadata": {},
   "outputs": [
    {
     "data": {
      "image/png": "[encoded data removed]",
      "text/plain": [
       "<Figure size 1000x1000 with 1 Axes>"
      ]
     },
     "metadata": {},
     "output_type": "display_data"
    },
    {
     "name": "stdout",
     "output_type": "stream",
     "text": [
      "time: 250 ms (started: 2023-08-23 19:35:39 +01:00)\n"
     ]
    }
   ],
   "source": [
    "#Balancing the dataset: SMOTE\n",
    "labels, counts = np.unique(df.Stock_Movement, return_counts=True)\n",
    "\n",
    "plt.figure(figsize=(10, 10))\n",
    "plt.pie(counts, autopct='%1.1f%%', labels=labels)\n",
    "plt.title('Dataset proportions')\n",
    "plt.show()"
   ]
  },
  {
   "cell_type": "markdown",
   "id": "314a620a-1de8-4817-b4e6-1419523f2bf0",
   "metadata": {},
   "source": [
    "### Let's Try Balancing Data (SMOTE)"
   ]
  },
  {
   "cell_type": "code",
   "execution_count": 236,
   "id": "89e4e958-0662-4e9c-81f2-5727e54581b4",
   "metadata": {},
   "outputs": [
    {
     "name": "stdout",
     "output_type": "stream",
     "text": [
      "time: 0 ns (started: 2023-08-23 19:35:39 +01:00)\n"
     ]
    }
   ],
   "source": [
    "X = df.drop('Stock_Movement', axis=1)\n",
    "y = df.Stock_Movement"
   ]
  },
  {
   "cell_type": "code",
   "execution_count": 237,
   "id": "7e9bfadd-b2ab-4a5f-9614-2ec6b0b3402a",
   "metadata": {
    "tags": []
   },
   "outputs": [
    {
     "data": {
      "text/html": [
       "<div>\n",
       "<style scoped>\n",
       "    .dataframe tbody tr th:only-of-type {\n",
       "        vertical-align: middle;\n",
       "    }\n",
       "\n",
       "    .dataframe tbody tr th {\n",
       "        vertical-align: top;\n",
       "    }\n",
       "\n",
       "    .dataframe thead th {\n",
       "        text-align: right;\n",
       "    }\n",
       "</style>\n",
       "<table border=\"1\" class=\"dataframe\">\n",
       "  <thead>\n",
       "    <tr style=\"text-align: right;\">\n",
       "      <th></th>\n",
       "      <th>Trade_Time(Secs)</th>\n",
       "      <th>Waiting_Time(Secs)</th>\n",
       "      <th>Trading_Price(US$)</th>\n",
       "    </tr>\n",
       "  </thead>\n",
       "  <tbody>\n",
       "    <tr>\n",
       "      <th>0</th>\n",
       "      <td>34227</td>\n",
       "      <td>8</td>\n",
       "      <td>117.8750</td>\n",
       "    </tr>\n",
       "    <tr>\n",
       "      <th>1</th>\n",
       "      <td>34235</td>\n",
       "      <td>11</td>\n",
       "      <td>117.8750</td>\n",
       "    </tr>\n",
       "    <tr>\n",
       "      <th>2</th>\n",
       "      <td>34246</td>\n",
       "      <td>3</td>\n",
       "      <td>117.9375</td>\n",
       "    </tr>\n",
       "    <tr>\n",
       "      <th>3</th>\n",
       "      <td>34249</td>\n",
       "      <td>5</td>\n",
       "      <td>117.9375</td>\n",
       "    </tr>\n",
       "    <tr>\n",
       "      <th>4</th>\n",
       "      <td>34254</td>\n",
       "      <td>32</td>\n",
       "      <td>117.8750</td>\n",
       "    </tr>\n",
       "    <tr>\n",
       "      <th>...</th>\n",
       "      <td>...</td>\n",
       "      <td>...</td>\n",
       "      <td>...</td>\n",
       "    </tr>\n",
       "    <tr>\n",
       "      <th>55554</th>\n",
       "      <td>57633</td>\n",
       "      <td>10</td>\n",
       "      <td>135.6250</td>\n",
       "    </tr>\n",
       "    <tr>\n",
       "      <th>55555</th>\n",
       "      <td>57643</td>\n",
       "      <td>4</td>\n",
       "      <td>135.5000</td>\n",
       "    </tr>\n",
       "    <tr>\n",
       "      <th>55556</th>\n",
       "      <td>57647</td>\n",
       "      <td>3</td>\n",
       "      <td>135.5625</td>\n",
       "    </tr>\n",
       "    <tr>\n",
       "      <th>55557</th>\n",
       "      <td>57650</td>\n",
       "      <td>9</td>\n",
       "      <td>135.6250</td>\n",
       "    </tr>\n",
       "    <tr>\n",
       "      <th>55558</th>\n",
       "      <td>57659</td>\n",
       "      <td>12</td>\n",
       "      <td>135.5625</td>\n",
       "    </tr>\n",
       "  </tbody>\n",
       "</table>\n",
       "<p>55559 rows × 3 columns</p>\n",
       "</div>"
      ],
      "text/plain": [
       "       Trade_Time(Secs)  Waiting_Time(Secs)  Trading_Price(US$)\n",
       "0                 34227                   8            117.8750\n",
       "1                 34235                  11            117.8750\n",
       "2                 34246                   3            117.9375\n",
       "3                 34249                   5            117.9375\n",
       "4                 34254                  32            117.8750\n",
       "...                 ...                 ...                 ...\n",
       "55554             57633                  10            135.6250\n",
       "55555             57643                   4            135.5000\n",
       "55556             57647                   3            135.5625\n",
       "55557             57650                   9            135.6250\n",
       "55558             57659                  12            135.5625\n",
       "\n",
       "[55559 rows x 3 columns]"
      ]
     },
     "execution_count": 237,
     "metadata": {},
     "output_type": "execute_result"
    },
    {
     "name": "stdout",
     "output_type": "stream",
     "text": [
      "time: 16 ms (started: 2023-08-23 19:35:39 +01:00)\n"
     ]
    }
   ],
   "source": [
    "X"
   ]
  },
  {
   "cell_type": "code",
   "execution_count": 238,
   "id": "9bb792f9-2255-4dc5-89c1-318bfe71cca2",
   "metadata": {
    "tags": []
   },
   "outputs": [
    {
     "data": {
      "text/plain": [
       "0        Flat\n",
       "1        Gain\n",
       "2        Flat\n",
       "3        Loss\n",
       "4        Flat\n",
       "         ... \n",
       "55554    Loss\n",
       "55555    Gain\n",
       "55556    Gain\n",
       "55557    Loss\n",
       "55558    Loss\n",
       "Name: Stock_Movement, Length: 55559, dtype: object"
      ]
     },
     "execution_count": 238,
     "metadata": {},
     "output_type": "execute_result"
    },
    {
     "name": "stdout",
     "output_type": "stream",
     "text": [
      "time: 0 ns (started: 2023-08-23 19:35:39 +01:00)\n"
     ]
    }
   ],
   "source": [
    "y"
   ]
  },
  {
   "cell_type": "code",
   "execution_count": 239,
   "id": "c6bfe048-22fc-4385-b830-7a0dc171c034",
   "metadata": {},
   "outputs": [
    {
     "name": "stdout",
     "output_type": "stream",
     "text": [
      "time: 0 ns (started: 2023-08-23 19:35:39 +01:00)\n"
     ]
    }
   ],
   "source": [
    "from sklearn import preprocessing"
   ]
  },
  {
   "cell_type": "code",
   "execution_count": 240,
   "id": "09afe8df-6e64-404d-bea5-f383335e5b7e",
   "metadata": {},
   "outputs": [
    {
     "data": {
      "text/plain": [
       "array([0, 1, 2])"
      ]
     },
     "execution_count": 240,
     "metadata": {},
     "output_type": "execute_result"
    },
    {
     "name": "stdout",
     "output_type": "stream",
     "text": [
      "time: 31 ms (started: 2023-08-23 19:35:39 +01:00)\n"
     ]
    }
   ],
   "source": [
    "le = preprocessing.LabelEncoder()\n",
    "df['Stock_Movement'] = le.fit_transform(df['Stock_Movement'])\n",
    "df['Stock_Movement'].unique()"
   ]
  },
  {
   "cell_type": "code",
   "execution_count": 241,
   "id": "c864f10f-9363-4d03-88cf-962296ebab06",
   "metadata": {},
   "outputs": [
    {
     "data": {
      "text/plain": [
       "['Flat', 'Gain', 'Loss']"
      ]
     },
     "execution_count": 241,
     "metadata": {},
     "output_type": "execute_result"
    },
    {
     "name": "stdout",
     "output_type": "stream",
     "text": [
      "time: 31 ms (started: 2023-08-23 19:35:39 +01:00)\n"
     ]
    }
   ],
   "source": [
    "#One-Hot-Encoding\n",
    "list(np.unique(y))   "
   ]
  },
  {
   "cell_type": "code",
   "execution_count": 387,
   "id": "1de9f5d3-3215-4e3f-b1a8-ea485b41e324",
   "metadata": {},
   "outputs": [
    {
     "data": {
      "text/plain": [
       "0        0\n",
       "1        1\n",
       "2        0\n",
       "3        2\n",
       "4        0\n",
       "        ..\n",
       "55554    2\n",
       "55555    1\n",
       "55556    1\n",
       "55557    2\n",
       "55558    2\n",
       "Name: Stock_Movement, Length: 55559, dtype: int64"
      ]
     },
     "execution_count": 387,
     "metadata": {},
     "output_type": "execute_result"
    },
    {
     "name": "stdout",
     "output_type": "stream",
     "text": [
      "time: 47 ms (started: 2023-08-24 16:10:34 +01:00)\n"
     ]
    }
   ],
   "source": [
    "y.replace([ 'Flat','Gain', 'Loss'], [i for i in range(len(np.unique(y)))])"
   ]
  },
  {
   "cell_type": "code",
   "execution_count": 388,
   "id": "6b9c98a0-7bc7-48d4-bb2b-615387419512",
   "metadata": {},
   "outputs": [
    {
     "data": {
      "image/png": "[encoded data removed]",
      "text/plain": [
       "<Figure size 640x480 with 1 Axes>"
      ]
     },
     "metadata": {},
     "output_type": "display_data"
    },
    {
     "name": "stdout",
     "output_type": "stream",
     "text": [
      "time: 140 ms (started: 2023-08-24 16:10:39 +01:00)\n"
     ]
    }
   ],
   "source": [
    "_ = sns.countplot(x='Stock_Movement', data=df)"
   ]
  },
  {
   "cell_type": "code",
   "execution_count": 244,
   "id": "2683cebe-7f23-4257-a863-2b31fcf61d43",
   "metadata": {
    "tags": []
   },
   "outputs": [
    {
     "name": "stdout",
     "output_type": "stream",
     "text": [
      "Requirement already satisfied: imbalanced-learn in c:\\users\\transsnet\\anaconda3\\anaconda2\\lib\\site-packages (0.11.0)\n",
      "Requirement already satisfied: numpy>=1.17.3 in c:\\users\\transsnet\\anaconda3\\anaconda2\\lib\\site-packages (from imbalanced-learn) (1.24.3)\n",
      "Requirement already satisfied: scipy>=1.5.0 in c:\\users\\transsnet\\anaconda3\\anaconda2\\lib\\site-packages (from imbalanced-learn) (1.10.1)\n",
      "Requirement already satisfied: scikit-learn>=1.0.2 in c:\\users\\transsnet\\anaconda3\\anaconda2\\lib\\site-packages (from imbalanced-learn) (1.2.2)\n",
      "Requirement already satisfied: joblib>=1.1.1 in c:\\users\\transsnet\\anaconda3\\anaconda2\\lib\\site-packages (from imbalanced-learn) (1.2.0)\n",
      "Requirement already satisfied: threadpoolctl>=2.0.0 in c:\\users\\transsnet\\anaconda3\\anaconda2\\lib\\site-packages (from imbalanced-learn) (3.2.0)\n",
      "time: 8.61 s (started: 2023-08-23 19:35:40 +01:00)\n"
     ]
    }
   ],
   "source": [
    "!pip install -U imbalanced-learn"
   ]
  },
  {
   "cell_type": "code",
   "execution_count": 245,
   "id": "16934b6f-6047-48a4-bbd5-0f1a08ad847a",
   "metadata": {
    "tags": []
   },
   "outputs": [
    {
     "name": "stdout",
     "output_type": "stream",
     "text": [
      "Requirement already satisfied: imbalanced-learn in c:\\users\\transsnet\\anaconda3\\anaconda2\\lib\\site-packages (0.11.0)time: 9.14 s (started: 2023-08-23 19:35:48 +01:00)\n",
      "\n",
      "Requirement already satisfied: numpy>=1.17.3 in c:\\users\\transsnet\\anaconda3\\anaconda2\\lib\\site-packages (from imbalanced-learn) (1.24.3)\n",
      "Requirement already satisfied: scipy>=1.5.0 in c:\\users\\transsnet\\anaconda3\\anaconda2\\lib\\site-packages (from imbalanced-learn) (1.10.1)\n",
      "Requirement already satisfied: scikit-learn>=1.0.2 in c:\\users\\transsnet\\anaconda3\\anaconda2\\lib\\site-packages (from imbalanced-learn) (1.2.2)\n",
      "Requirement already satisfied: joblib>=1.1.1 in c:\\users\\transsnet\\anaconda3\\anaconda2\\lib\\site-packages (from imbalanced-learn) (1.2.0)\n",
      "Requirement already satisfied: threadpoolctl>=2.0.0 in c:\\users\\transsnet\\anaconda3\\anaconda2\\lib\\site-packages (from imbalanced-learn) (3.2.0)\n"
     ]
    }
   ],
   "source": [
    "!pip install imbalanced-learn"
   ]
  },
  {
   "cell_type": "code",
   "execution_count": 246,
   "id": "e01115a9-f2be-4e9b-a05c-83cdcd5b2d20",
   "metadata": {},
   "outputs": [
    {
     "name": "stdout",
     "output_type": "stream",
     "text": [
      "Requirement already satisfied: threadpoolctl in c:\\users\\transsnet\\anaconda3\\anaconda2\\lib\\site-packages (3.2.0)\n",
      "time: 9.27 s (started: 2023-08-23 19:35:57 +01:00)\n"
     ]
    }
   ],
   "source": [
    "!pip install -U threadpoolctl"
   ]
  },
  {
   "cell_type": "code",
   "execution_count": 247,
   "id": "5ece6170-620b-46a8-9f85-eb0c70ddb126",
   "metadata": {
    "tags": []
   },
   "outputs": [
    {
     "name": "stdout",
     "output_type": "stream",
     "text": [
      "time: 0 ns (started: 2023-08-23 19:36:07 +01:00)\n"
     ]
    }
   ],
   "source": [
    "from imblearn.over_sampling import SMOTE \n"
   ]
  },
  {
   "cell_type": "code",
   "execution_count": 248,
   "id": "0ae78a69-5f7f-4233-a11b-615b0594121b",
   "metadata": {
    "tags": []
   },
   "outputs": [
    {
     "name": "stdout",
     "output_type": "stream",
     "text": [
      "time: 16 ms (started: 2023-08-23 19:36:07 +01:00)\n"
     ]
    }
   ],
   "source": [
    "sm = SMOTE(random_state=78)\n"
   ]
  },
  {
   "cell_type": "code",
   "execution_count": 249,
   "id": "31a1662e-1623-49de-a121-5942306a2149",
   "metadata": {
    "tags": []
   },
   "outputs": [
    {
     "name": "stdout",
     "output_type": "stream",
     "text": [
      "time: 328 ms (started: 2023-08-23 19:36:07 +01:00)\n"
     ]
    }
   ],
   "source": [
    "X_sm, y_sm = sm.fit_resample(X, y)\n"
   ]
  },
  {
   "cell_type": "code",
   "execution_count": 250,
   "id": "82ddc398-7c19-4ca6-8daa-d5e79fdaf869",
   "metadata": {
    "tags": []
   },
   "outputs": [
    {
     "data": {
      "image/png": "[encoded data removed]",
      "text/plain": [
       "<Figure size 1000x1000 with 1 Axes>"
      ]
     },
     "metadata": {},
     "output_type": "display_data"
    },
    {
     "name": "stdout",
     "output_type": "stream",
     "text": [
      "time: 313 ms (started: 2023-08-23 19:36:07 +01:00)\n"
     ]
    }
   ],
   "source": [
    "labels, counts = np.unique(y_sm, return_counts=True)\n",
    "\n",
    "plt.figure(figsize=(10, 10))\n",
    "plt.pie(counts, autopct='%1.1f%%', labels=labels)\n",
    "plt.title('Dataset proportions')\n",
    "plt.show()"
   ]
  },
  {
   "cell_type": "code",
   "execution_count": 251,
   "id": "121c01f4-1faa-40e2-84b4-285c89ce8a20",
   "metadata": {},
   "outputs": [
    {
     "data": {
      "image/png": "[encoded data removed]",
      "text/plain": [
       "<Figure size 1100x400 with 2 Axes>"
      ]
     },
     "metadata": {},
     "output_type": "display_data"
    },
    {
     "name": "stdout",
     "output_type": "stream",
     "text": [
      "time: 453 ms (started: 2023-08-23 19:36:07 +01:00)\n"
     ]
    }
   ],
   "source": [
    "#Correlation plot\n",
    "plt.figure(figsize=(11,4))\n",
    "sns.heatmap(df.corr(), cmap=\"jet\", annot=True)\n",
    "plt.show()"
   ]
  },
  {
   "cell_type": "markdown",
   "id": "a7e264d2-e785-4278-b8af-8fa553b3400d",
   "metadata": {},
   "source": [
    "## Pearson linear correlation"
   ]
  },
  {
   "cell_type": "code",
   "execution_count": 252,
   "id": "73c3f09e-fbcc-4e17-adb9-0655d6f0b822",
   "metadata": {
    "tags": []
   },
   "outputs": [
    {
     "data": {
      "image/png": "[encoded data removed]",
      "text/plain": [
       "<Figure size 1500x1000 with 2 Axes>"
      ]
     },
     "metadata": {},
     "output_type": "display_data"
    },
    {
     "name": "stdout",
     "output_type": "stream",
     "text": [
      "time: 328 ms (started: 2023-08-23 19:36:08 +01:00)\n"
     ]
    }
   ],
   "source": [
    "plt.figure(figsize=(15, 10))\n",
    "sns.heatmap(data=df.corr(), cmap='coolwarm', mask=np.triu(df.corr()), annot=True)\n",
    "plt.show()"
   ]
  },
  {
   "cell_type": "markdown",
   "id": "47dd6657-0c1a-41dc-ba4b-436425074411",
   "metadata": {},
   "source": [
    "## Data split & normalization"
   ]
  },
  {
   "cell_type": "code",
   "execution_count": null,
   "id": "04bf5790-3880-4abd-96ff-b9bfed23ce74",
   "metadata": {},
   "outputs": [],
   "source": []
  },
  {
   "cell_type": "code",
   "execution_count": 253,
   "id": "381ea1a3-26d4-4ea5-8019-fffee72867de",
   "metadata": {},
   "outputs": [
    {
     "name": "stdout",
     "output_type": "stream",
     "text": [
      "time: 0 ns (started: 2023-08-23 19:36:08 +01:00)\n"
     ]
    }
   ],
   "source": [
    "# import package for splitting data\n",
    "\n",
    "from sklearn.model_selection import train_test_split\n",
    "from sklearn.model_selection import cross_val_score\n",
    "from sklearn.metrics import accuracy_score, f1_score, confusion_matrix\n",
    "from sklearn.model_selection import GridSearchCV"
   ]
  },
  {
   "cell_type": "code",
   "execution_count": 254,
   "id": "a8489f54-0429-494d-85ca-34da19b2a3eb",
   "metadata": {
    "tags": []
   },
   "outputs": [
    {
     "name": "stdout",
     "output_type": "stream",
     "text": [
      "time: 78 ms (started: 2023-08-23 19:36:08 +01:00)\n"
     ]
    }
   ],
   "source": [
    "#split the data\n",
    "X_train, X_test, y_train, y_test = train_test_split(X_sm, y_sm, random_state=42, shuffle=True, test_size=0.1)\n"
   ]
  },
  {
   "cell_type": "code",
   "execution_count": 255,
   "id": "74aaf228-8b98-487e-bd3d-7d0c7c9b3767",
   "metadata": {
    "tags": []
   },
   "outputs": [
    {
     "data": {
      "text/plain": [
       "array([[-0.03609074, -0.29068523,  0.89321166],\n",
       "       [ 0.19898456,  2.29783871, -0.08375228],\n",
       "       [ 0.72568758,  1.57305201,  0.531671  ],\n",
       "       ...,\n",
       "       [ 0.26292505,  0.22701956,  0.59500738],\n",
       "       [-0.65279402,  1.98721584, -1.0331961 ],\n",
       "       [ 1.49377936, -0.60130811,  0.5079301 ]])"
      ]
     },
     "execution_count": 255,
     "metadata": {},
     "output_type": "execute_result"
    },
    {
     "name": "stdout",
     "output_type": "stream",
     "text": [
      "time: 16 ms (started: 2023-08-23 19:36:08 +01:00)\n"
     ]
    }
   ],
   "source": [
    "ss = StandardScaler()\n",
    "X_train_ss = ss.fit_transform(X_train)\n",
    "X_test_ss = ss.transform(X_test)\n",
    "\n",
    "# check\n",
    "X_train_ss"
   ]
  },
  {
   "cell_type": "markdown",
   "id": "a7d9ca39-0f14-4b6e-a73d-973539e68aa8",
   "metadata": {},
   "source": [
    "The preprocesing steps is complete for the dataset. Next we'll move to modelling"
   ]
  },
  {
   "cell_type": "code",
   "execution_count": null,
   "id": "4bbbe08d-def7-4a5d-8413-7ecbe0cb3121",
   "metadata": {},
   "outputs": [],
   "source": []
  },
  {
   "cell_type": "markdown",
   "id": "8b48301b-ab02-4e1f-92f3-59ffa6edfd86",
   "metadata": {},
   "source": [
    "## Logistic Regression"
   ]
  },
  {
   "cell_type": "code",
   "execution_count": 256,
   "id": "96fc9526-a256-41e3-ab18-6ee025134fce",
   "metadata": {
    "tags": []
   },
   "outputs": [
    {
     "name": "stdout",
     "output_type": "stream",
     "text": [
      "time: 0 ns (started: 2023-08-23 19:36:08 +01:00)\n"
     ]
    }
   ],
   "source": [
    "# import logistic regression classifier\n",
    "from sklearn.linear_model import LogisticRegression\n",
    "\n",
    "# instantiate the LR classifier with default parameters\n",
    "lr_model = LogisticRegression()\n"
   ]
  },
  {
   "cell_type": "code",
   "execution_count": 257,
   "id": "94651716-0252-4fb2-a3fa-775e14cee1ae",
   "metadata": {
    "tags": []
   },
   "outputs": [
    {
     "name": "stdout",
     "output_type": "stream",
     "text": [
      "time: 0 ns (started: 2023-08-23 19:36:08 +01:00)\n"
     ]
    }
   ],
   "source": [
    "# define search space\n",
    "space_lr = dict()\n",
    "space_lr['solver'] = ['newton-cg', 'lbfgs', 'liblinear', 'sag', 'saga']\n",
    "space_lr['penalty'] = ['l1', 'l2', 'elasticnet']\n",
    "space_lr['C'] = [0.1, 0.5, 0.01, 0.001, 0.0001, 0.00001, 0.000001, 1.0, 2.0 ]"
   ]
  },
  {
   "cell_type": "code",
   "execution_count": 258,
   "id": "10f8c3c7-d8e2-4371-be7c-560bed34d8f0",
   "metadata": {
    "tags": []
   },
   "outputs": [
    {
     "name": "stdout",
     "output_type": "stream",
     "text": [
      "time: 0 ns (started: 2023-08-23 19:36:08 +01:00)\n"
     ]
    }
   ],
   "source": [
    "# grid search the hyper parameter\n",
    "lr_search = GridSearchCV(estimator=lr_model, param_grid=space_lr, cv=10, n_jobs=-1)"
   ]
  },
  {
   "cell_type": "code",
   "execution_count": 259,
   "id": "91344b26-2f53-44ad-b66c-12c192aed907",
   "metadata": {
    "tags": []
   },
   "outputs": [
    {
     "name": "stdout",
     "output_type": "stream",
     "text": [
      "time: 1min 33s (started: 2023-08-23 19:36:08 +01:00)\n"
     ]
    }
   ],
   "source": [
    "# fit the lr classifier on the train set\n",
    "lr_result = lr_search.fit(X_train_ss, y_train)"
   ]
  },
  {
   "cell_type": "code",
   "execution_count": 260,
   "id": "462aaa86-85bb-4722-bd3e-03cd77d7c9c3",
   "metadata": {
    "tags": []
   },
   "outputs": [
    {
     "name": "stdout",
     "output_type": "stream",
     "text": [
      "The best score from the search is 0.36087793776356536 \n",
      "\n",
      "The best parameter from the search is {'C': 1e-05, 'penalty': 'l2', 'solver': 'saga'}\n",
      "time: 0 ns (started: 2023-08-23 19:37:42 +01:00)\n"
     ]
    }
   ],
   "source": [
    "# print the best score from the search\n",
    "print(f'The best score from the search is {lr_result.best_score_}', '\\n')\n",
    "\n",
    "# print the best parameters from the search\n",
    "print(f'The best parameter from the search is {lr_result.best_params_}')"
   ]
  },
  {
   "cell_type": "code",
   "execution_count": 261,
   "id": "1880d880-00f6-4815-aa2c-9504fc04c3df",
   "metadata": {
    "tags": []
   },
   "outputs": [
    {
     "name": "stdout",
     "output_type": "stream",
     "text": [
      "time: 63 ms (started: 2023-08-23 19:37:42 +01:00)\n"
     ]
    }
   ],
   "source": [
    "# instantiate the LR with the resultant hyperparameters \n",
    "lr = LogisticRegression(solver='saga', C=0.00001, penalty='l2')"
   ]
  },
  {
   "cell_type": "markdown",
   "id": "4e55cd9b-349c-4bd0-b34b-cc1c24217bc9",
   "metadata": {},
   "source": [
    "## Training the model"
   ]
  },
  {
   "cell_type": "code",
   "execution_count": 262,
   "id": "630e1527-8dd8-417d-b3fd-300896a3670a",
   "metadata": {
    "tags": []
   },
   "outputs": [
    {
     "data": {
      "text/html": [
       "<style>#sk-container-id-18 {color: black;background-color: white;}#sk-container-id-18 pre{padding: 0;}#sk-container-id-18 div.sk-toggleable {background-color: white;}#sk-container-id-18 label.sk-toggleable__label {cursor: pointer;display: block;width: 100%;margin-bottom: 0;padding: 0.3em;box-sizing: border-box;text-align: center;}#sk-container-id-18 label.sk-toggleable__label-arrow:before {content: \"▸\";float: left;margin-right: 0.25em;color: #696969;}#sk-container-id-18 label.sk-toggleable__label-arrow:hover:before {color: black;}#sk-container-id-18 div.sk-estimator:hover label.sk-toggleable__label-arrow:before {color: black;}#sk-container-id-18 div.sk-toggleable__content {max-height: 0;max-width: 0;overflow: hidden;text-align: left;background-color: #f0f8ff;}#sk-container-id-18 div.sk-toggleable__content pre {margin: 0.2em;color: black;border-radius: 0.25em;background-color: #f0f8ff;}#sk-container-id-18 input.sk-toggleable__control:checked~div.sk-toggleable__content {max-height: 200px;max-width: 100%;overflow: auto;}#sk-container-id-18 input.sk-toggleable__control:checked~label.sk-toggleable__label-arrow:before {content: \"▾\";}#sk-container-id-18 div.sk-estimator input.sk-toggleable__control:checked~label.sk-toggleable__label {background-color: #d4ebff;}#sk-container-id-18 div.sk-label input.sk-toggleable__control:checked~label.sk-toggleable__label {background-color: #d4ebff;}#sk-container-id-18 input.sk-hidden--visually {border: 0;clip: rect(1px 1px 1px 1px);clip: rect(1px, 1px, 1px, 1px);height: 1px;margin: -1px;overflow: hidden;padding: 0;position: absolute;width: 1px;}#sk-container-id-18 div.sk-estimator {font-family: monospace;background-color: #f0f8ff;border: 1px dotted black;border-radius: 0.25em;box-sizing: border-box;margin-bottom: 0.5em;}#sk-container-id-18 div.sk-estimator:hover {background-color: #d4ebff;}#sk-container-id-18 div.sk-parallel-item::after {content: \"\";width: 100%;border-bottom: 1px solid gray;flex-grow: 1;}#sk-container-id-18 div.sk-label:hover label.sk-toggleable__label {background-color: #d4ebff;}#sk-container-id-18 div.sk-serial::before {content: \"\";position: absolute;border-left: 1px solid gray;box-sizing: border-box;top: 0;bottom: 0;left: 50%;z-index: 0;}#sk-container-id-18 div.sk-serial {display: flex;flex-direction: column;align-items: center;background-color: white;padding-right: 0.2em;padding-left: 0.2em;position: relative;}#sk-container-id-18 div.sk-item {position: relative;z-index: 1;}#sk-container-id-18 div.sk-parallel {display: flex;align-items: stretch;justify-content: center;background-color: white;position: relative;}#sk-container-id-18 div.sk-item::before, #sk-container-id-18 div.sk-parallel-item::before {content: \"\";position: absolute;border-left: 1px solid gray;box-sizing: border-box;top: 0;bottom: 0;left: 50%;z-index: -1;}#sk-container-id-18 div.sk-parallel-item {display: flex;flex-direction: column;z-index: 1;position: relative;background-color: white;}#sk-container-id-18 div.sk-parallel-item:first-child::after {align-self: flex-end;width: 50%;}#sk-container-id-18 div.sk-parallel-item:last-child::after {align-self: flex-start;width: 50%;}#sk-container-id-18 div.sk-parallel-item:only-child::after {width: 0;}#sk-container-id-18 div.sk-dashed-wrapped {border: 1px dashed gray;margin: 0 0.4em 0.5em 0.4em;box-sizing: border-box;padding-bottom: 0.4em;background-color: white;}#sk-container-id-18 div.sk-label label {font-family: monospace;font-weight: bold;display: inline-block;line-height: 1.2em;}#sk-container-id-18 div.sk-label-container {text-align: center;}#sk-container-id-18 div.sk-container {/* jupyter's `normalize.less` sets `[hidden] { display: none; }` but bootstrap.min.css set `[hidden] { display: none !important; }` so we also need the `!important` here to be able to override the default hidden behavior on the sphinx rendered scikit-learn.org. See: https://github.com/scikit-learn/scikit-learn/issues/21755 */display: inline-block !important;position: relative;}#sk-container-id-18 div.sk-text-repr-fallback {display: none;}</style><div id=\"sk-container-id-18\" class=\"sk-top-container\"><div class=\"sk-text-repr-fallback\"><pre>LogisticRegression(C=1e-05, solver=&#x27;saga&#x27;)</pre><b>In a Jupyter environment, please rerun this cell to show the HTML representation or trust the notebook. <br />On GitHub, the HTML representation is unable to render, please try loading this page with nbviewer.org.</b></div><div class=\"sk-container\" hidden><div class=\"sk-item\"><div class=\"sk-estimator sk-toggleable\"><input class=\"sk-toggleable__control sk-hidden--visually\" id=\"sk-estimator-id-26\" type=\"checkbox\" checked><label for=\"sk-estimator-id-26\" class=\"sk-toggleable__label sk-toggleable__label-arrow\">LogisticRegression</label><div class=\"sk-toggleable__content\"><pre>LogisticRegression(C=1e-05, solver=&#x27;saga&#x27;)</pre></div></div></div></div></div>"
      ],
      "text/plain": [
       "LogisticRegression(C=1e-05, solver='saga')"
      ]
     },
     "execution_count": 262,
     "metadata": {},
     "output_type": "execute_result"
    },
    {
     "name": "stdout",
     "output_type": "stream",
     "text": [
      "time: 1.41 s (started: 2023-08-23 19:37:42 +01:00)\n"
     ]
    }
   ],
   "source": [
    "# fit the model on the train data\n",
    "lr.fit(X_train_ss, y_train)"
   ]
  },
  {
   "cell_type": "code",
   "execution_count": 263,
   "id": "0d09fd62-6014-42c9-9585-f0309be17621",
   "metadata": {
    "tags": []
   },
   "outputs": [
    {
     "data": {
      "text/plain": [
       "array(['Gain', 'Loss', 'Gain', ..., 'Flat', 'Flat', 'Flat'], dtype=object)"
      ]
     },
     "execution_count": 263,
     "metadata": {},
     "output_type": "execute_result"
    },
    {
     "name": "stdout",
     "output_type": "stream",
     "text": [
      "time: 0 ns (started: 2023-08-23 19:37:43 +01:00)\n"
     ]
    }
   ],
   "source": [
    "# predict on the test set\n",
    "lr_pred = lr.predict(X_test_ss)\n",
    "lr_pred"
   ]
  },
  {
   "cell_type": "code",
   "execution_count": 264,
   "id": "5c226713-ef8c-451c-9e6a-77c6fdad14c1",
   "metadata": {
    "tags": []
   },
   "outputs": [
    {
     "name": "stdout",
     "output_type": "stream",
     "text": [
      "              precision    recall  f1-score   support\n",
      "\n",
      "        Flat       0.37      0.67      0.48      3351\n",
      "        Gain       0.37      0.20      0.25      3274\n",
      "        Loss       0.36      0.24      0.28      3277\n",
      "\n",
      "    accuracy                           0.37      9902\n",
      "   macro avg       0.37      0.37      0.34      9902\n",
      "weighted avg       0.37      0.37      0.34      9902\n",
      "\n",
      "time: 359 ms (started: 2023-08-23 19:37:44 +01:00)\n"
     ]
    }
   ],
   "source": [
    "print(classification_report(y_test, lr_pred))"
   ]
  },
  {
   "cell_type": "markdown",
   "id": "9f374452-a733-44fb-a2d5-dccc27189f02",
   "metadata": {},
   "source": [
    "Weighted Avg F1-score = (0.48 * 3351 + 0.26 * 3274 + 0.28 * 3277) / 9902 ≈ 0.333\n",
    "\n",
    "The combined F1-score from the table is approximately 0.33."
   ]
  },
  {
   "cell_type": "code",
   "execution_count": 265,
   "id": "7340f41b-133b-494c-804c-1507c09b7311",
   "metadata": {
    "tags": []
   },
   "outputs": [
    {
     "name": "stdout",
     "output_type": "stream",
     "text": [
      "The Accuracy of Logistic Regression is: 36.9%\n",
      "time: 16 ms (started: 2023-08-23 19:37:44 +01:00)\n"
     ]
    }
   ],
   "source": [
    "print(f'The Accuracy of Logistic Regression is: {np.round(accuracy_score(y_test, lr_pred), decimals=3)*100}%')"
   ]
  },
  {
   "cell_type": "code",
   "execution_count": 266,
   "id": "cd412ce7-cf65-4c88-985f-bc4cabc5e027",
   "metadata": {
    "tags": []
   },
   "outputs": [
    {
     "name": "stdout",
     "output_type": "stream",
     "text": [
      "Trains F1_Score Logistic Regression:  0.3335989047982405\n",
      "time: 968 ms (started: 2023-08-23 19:37:44 +01:00)\n"
     ]
    }
   ],
   "source": [
    "from sklearn import metrics\n",
    "from sklearn.metrics import confusion_matrix, ConfusionMatrixDisplay\n",
    "\n",
    "print(\"Trains F1_Score Logistic Regression: \", metrics.f1_score(y_train, lr.predict(X_train), average='micro'))"
   ]
  },
  {
   "cell_type": "code",
   "execution_count": 267,
   "id": "e9c3eba1-c551-4161-af94-b448c57e5050",
   "metadata": {
    "tags": []
   },
   "outputs": [
    {
     "name": "stdout",
     "output_type": "stream",
     "text": [
      "Micro-Averaged Precision: 0.37\n",
      "Micro-Averaged Recall: 0.37\n",
      "time: 282 ms (started: 2023-08-23 19:37:45 +01:00)\n"
     ]
    }
   ],
   "source": [
    "from sklearn.metrics import precision_score, recall_score\n",
    "\n",
    "# Calculate micro-averaged precision and recall\n",
    "micro_precision = precision_score(y_test, lr_pred, average='micro')\n",
    "micro_recall = recall_score(y_test, lr_pred, average='micro')\n",
    "\n",
    "print(f\"Micro-Averaged Precision: {micro_precision:.2f}\")\n",
    "print(f\"Micro-Averaged Recall: {micro_recall:.2f}\")"
   ]
  },
  {
   "cell_type": "code",
   "execution_count": 268,
   "id": "d99f963b-1d1f-4f72-bd7b-5373fd708588",
   "metadata": {
    "tags": []
   },
   "outputs": [
    {
     "data": {
      "text/plain": [
       "<Figure size 1200x1200 with 0 Axes>"
      ]
     },
     "metadata": {},
     "output_type": "display_data"
    },
    {
     "data": {
      "image/png": "[encoded data removed]",
      "text/plain": [
       "<Figure size 640x480 with 2 Axes>"
      ]
     },
     "metadata": {},
     "output_type": "display_data"
    },
    {
     "name": "stdout",
     "output_type": "stream",
     "text": [
      "time: 407 ms (started: 2023-08-23 19:37:45 +01:00)\n"
     ]
    }
   ],
   "source": [
    "# Displaying Results in Confusion Matrix\n",
    "cm = confusion_matrix(y_test, lr_pred)\n",
    "\n",
    "plt.figure(figsize=(12, 12))\n",
    "disp = ConfusionMatrixDisplay(confusion_matrix=cm)\n",
    "disp.plot(cmap='crest')\n",
    "plt.xticks(rotation=45)\n",
    "plt.suptitle('Stock Movement Confusion Matrix using Logistic Regression')\n",
    "plt.show()"
   ]
  },
  {
   "cell_type": "code",
   "execution_count": null,
   "id": "95f11017-f9e2-4e47-81ec-379db3ec49f0",
   "metadata": {},
   "outputs": [],
   "source": []
  },
  {
   "cell_type": "markdown",
   "id": "da8ab832-ada9-4d4c-b1a1-abf3512d6669",
   "metadata": {},
   "source": [
    "## SVM"
   ]
  },
  {
   "cell_type": "code",
   "execution_count": 269,
   "id": "c79a5bbd-9631-4d38-81ac-eea4269d0703",
   "metadata": {
    "tags": []
   },
   "outputs": [
    {
     "name": "stdout",
     "output_type": "stream",
     "text": [
      "time: 0 ns (started: 2023-08-23 19:37:46 +01:00)\n"
     ]
    }
   ],
   "source": [
    "# import the SVM classifier\n",
    "from sklearn.svm import SVC"
   ]
  },
  {
   "cell_type": "code",
   "execution_count": 270,
   "id": "96fc3dee-1f3a-4a08-bb42-ba7cd60fb16f",
   "metadata": {
    "tags": []
   },
   "outputs": [
    {
     "name": "stdout",
     "output_type": "stream",
     "text": [
      "time: 16 ms (started: 2023-08-23 19:37:46 +01:00)\n"
     ]
    }
   ],
   "source": [
    "# train the model on train set\n",
    "svm_model = SVC()"
   ]
  },
  {
   "cell_type": "code",
   "execution_count": 271,
   "id": "61840e60-f21b-408b-9696-cca6754df4ea",
   "metadata": {
    "tags": []
   },
   "outputs": [
    {
     "data": {
      "text/html": [
       "<style>#sk-container-id-19 {color: black;background-color: white;}#sk-container-id-19 pre{padding: 0;}#sk-container-id-19 div.sk-toggleable {background-color: white;}#sk-container-id-19 label.sk-toggleable__label {cursor: pointer;display: block;width: 100%;margin-bottom: 0;padding: 0.3em;box-sizing: border-box;text-align: center;}#sk-container-id-19 label.sk-toggleable__label-arrow:before {content: \"▸\";float: left;margin-right: 0.25em;color: #696969;}#sk-container-id-19 label.sk-toggleable__label-arrow:hover:before {color: black;}#sk-container-id-19 div.sk-estimator:hover label.sk-toggleable__label-arrow:before {color: black;}#sk-container-id-19 div.sk-toggleable__content {max-height: 0;max-width: 0;overflow: hidden;text-align: left;background-color: #f0f8ff;}#sk-container-id-19 div.sk-toggleable__content pre {margin: 0.2em;color: black;border-radius: 0.25em;background-color: #f0f8ff;}#sk-container-id-19 input.sk-toggleable__control:checked~div.sk-toggleable__content {max-height: 200px;max-width: 100%;overflow: auto;}#sk-container-id-19 input.sk-toggleable__control:checked~label.sk-toggleable__label-arrow:before {content: \"▾\";}#sk-container-id-19 div.sk-estimator input.sk-toggleable__control:checked~label.sk-toggleable__label {background-color: #d4ebff;}#sk-container-id-19 div.sk-label input.sk-toggleable__control:checked~label.sk-toggleable__label {background-color: #d4ebff;}#sk-container-id-19 input.sk-hidden--visually {border: 0;clip: rect(1px 1px 1px 1px);clip: rect(1px, 1px, 1px, 1px);height: 1px;margin: -1px;overflow: hidden;padding: 0;position: absolute;width: 1px;}#sk-container-id-19 div.sk-estimator {font-family: monospace;background-color: #f0f8ff;border: 1px dotted black;border-radius: 0.25em;box-sizing: border-box;margin-bottom: 0.5em;}#sk-container-id-19 div.sk-estimator:hover {background-color: #d4ebff;}#sk-container-id-19 div.sk-parallel-item::after {content: \"\";width: 100%;border-bottom: 1px solid gray;flex-grow: 1;}#sk-container-id-19 div.sk-label:hover label.sk-toggleable__label {background-color: #d4ebff;}#sk-container-id-19 div.sk-serial::before {content: \"\";position: absolute;border-left: 1px solid gray;box-sizing: border-box;top: 0;bottom: 0;left: 50%;z-index: 0;}#sk-container-id-19 div.sk-serial {display: flex;flex-direction: column;align-items: center;background-color: white;padding-right: 0.2em;padding-left: 0.2em;position: relative;}#sk-container-id-19 div.sk-item {position: relative;z-index: 1;}#sk-container-id-19 div.sk-parallel {display: flex;align-items: stretch;justify-content: center;background-color: white;position: relative;}#sk-container-id-19 div.sk-item::before, #sk-container-id-19 div.sk-parallel-item::before {content: \"\";position: absolute;border-left: 1px solid gray;box-sizing: border-box;top: 0;bottom: 0;left: 50%;z-index: -1;}#sk-container-id-19 div.sk-parallel-item {display: flex;flex-direction: column;z-index: 1;position: relative;background-color: white;}#sk-container-id-19 div.sk-parallel-item:first-child::after {align-self: flex-end;width: 50%;}#sk-container-id-19 div.sk-parallel-item:last-child::after {align-self: flex-start;width: 50%;}#sk-container-id-19 div.sk-parallel-item:only-child::after {width: 0;}#sk-container-id-19 div.sk-dashed-wrapped {border: 1px dashed gray;margin: 0 0.4em 0.5em 0.4em;box-sizing: border-box;padding-bottom: 0.4em;background-color: white;}#sk-container-id-19 div.sk-label label {font-family: monospace;font-weight: bold;display: inline-block;line-height: 1.2em;}#sk-container-id-19 div.sk-label-container {text-align: center;}#sk-container-id-19 div.sk-container {/* jupyter's `normalize.less` sets `[hidden] { display: none; }` but bootstrap.min.css set `[hidden] { display: none !important; }` so we also need the `!important` here to be able to override the default hidden behavior on the sphinx rendered scikit-learn.org. See: https://github.com/scikit-learn/scikit-learn/issues/21755 */display: inline-block !important;position: relative;}#sk-container-id-19 div.sk-text-repr-fallback {display: none;}</style><div id=\"sk-container-id-19\" class=\"sk-top-container\"><div class=\"sk-text-repr-fallback\"><pre>SVC()</pre><b>In a Jupyter environment, please rerun this cell to show the HTML representation or trust the notebook. <br />On GitHub, the HTML representation is unable to render, please try loading this page with nbviewer.org.</b></div><div class=\"sk-container\" hidden><div class=\"sk-item\"><div class=\"sk-estimator sk-toggleable\"><input class=\"sk-toggleable__control sk-hidden--visually\" id=\"sk-estimator-id-27\" type=\"checkbox\" checked><label for=\"sk-estimator-id-27\" class=\"sk-toggleable__label sk-toggleable__label-arrow\">SVC</label><div class=\"sk-toggleable__content\"><pre>SVC()</pre></div></div></div></div></div>"
      ],
      "text/plain": [
       "SVC()"
      ]
     },
     "execution_count": 271,
     "metadata": {},
     "output_type": "execute_result"
    },
    {
     "name": "stdout",
     "output_type": "stream",
     "text": [
      "time: 13min 7s (started: 2023-08-23 19:37:46 +01:00)\n"
     ]
    }
   ],
   "source": [
    "svm_model.fit(X_train_ss, y_train)"
   ]
  },
  {
   "cell_type": "code",
   "execution_count": 272,
   "id": "d4804da6-72c7-42c9-8c76-5a2dfb70ebe8",
   "metadata": {
    "tags": []
   },
   "outputs": [
    {
     "data": {
      "text/plain": [
       "array(['Gain', 'Loss', 'Loss', ..., 'Flat', 'Loss', 'Flat'], dtype=object)"
      ]
     },
     "execution_count": 272,
     "metadata": {},
     "output_type": "execute_result"
    },
    {
     "name": "stdout",
     "output_type": "stream",
     "text": [
      "time: 1min 48s (started: 2023-08-23 19:50:53 +01:00)\n"
     ]
    }
   ],
   "source": [
    "# predict on the test set\n",
    "svc_pred = svm_model.predict(X_test_ss)\n",
    "svc_pred"
   ]
  },
  {
   "cell_type": "code",
   "execution_count": 273,
   "id": "409390c0-ff2c-4671-927d-ccb0873ececd",
   "metadata": {
    "tags": []
   },
   "outputs": [
    {
     "name": "stdout",
     "output_type": "stream",
     "text": [
      "time: 0 ns (started: 2023-08-23 19:52:41 +01:00)\n"
     ]
    }
   ],
   "source": [
    "from sklearn.metrics import classification_report"
   ]
  },
  {
   "cell_type": "code",
   "execution_count": 274,
   "id": "2340473b-e399-4551-81c5-b80283bb88f3",
   "metadata": {
    "tags": []
   },
   "outputs": [
    {
     "name": "stdout",
     "output_type": "stream",
     "text": [
      "              precision    recall  f1-score   support\n",
      "\n",
      "        Flat       0.47      0.43      0.45      3351\n",
      "        Gain       0.37      0.35      0.36      3274\n",
      "        Loss       0.35      0.40      0.38      3277\n",
      "\n",
      "    accuracy                           0.39      9902\n",
      "   macro avg       0.40      0.39      0.40      9902\n",
      "weighted avg       0.40      0.39      0.40      9902\n",
      "\n",
      "time: 453 ms (started: 2023-08-23 19:52:41 +01:00)\n"
     ]
    }
   ],
   "source": [
    "print(classification_report(y_test, svc_pred))"
   ]
  },
  {
   "cell_type": "markdown",
   "id": "5077cb10-e9bb-4977-b3ce-8dee02b89940",
   "metadata": {},
   "source": [
    "Weighted Avg F1-score = (0.45 * 3351 + 0.36 * 3274 + 0.38 * 3277) / 9902 ≈ 0.394\n",
    "\n",
    "The combined F1-score from the table, taking into account support, is approximately 0.394."
   ]
  },
  {
   "cell_type": "code",
   "execution_count": 275,
   "id": "4277e762-1be5-489f-8278-5391ea48899f",
   "metadata": {
    "tags": []
   },
   "outputs": [
    {
     "name": "stdout",
     "output_type": "stream",
     "text": [
      "Micro-Averaged Precision: 0.39\n",
      "Micro-Averaged Recall: 0.39\n",
      "time: 141 ms (started: 2023-08-23 19:52:41 +01:00)\n"
     ]
    }
   ],
   "source": [
    "from sklearn.metrics import precision_score, recall_score\n",
    "\n",
    "# Calculate micro-averaged precision and recall\n",
    "micro_precision = precision_score(y_test, svc_pred, average='micro')\n",
    "micro_recall = recall_score(y_test, svc_pred, average='micro')\n",
    "\n",
    "print(f\"Micro-Averaged Precision: {micro_precision:.2f}\")\n",
    "print(f\"Micro-Averaged Recall: {micro_recall:.2f}\")"
   ]
  },
  {
   "cell_type": "code",
   "execution_count": 276,
   "id": "ec0110ae-4cce-4132-a8b6-f27eecb7bb38",
   "metadata": {
    "tags": []
   },
   "outputs": [
    {
     "data": {
      "text/plain": [
       "<Figure size 1200x1200 with 0 Axes>"
      ]
     },
     "metadata": {},
     "output_type": "display_data"
    },
    {
     "data": {
      "image/png": "[encoded data removed]",
      "text/plain": [
       "<Figure size 640x480 with 2 Axes>"
      ]
     },
     "metadata": {},
     "output_type": "display_data"
    },
    {
     "name": "stdout",
     "output_type": "stream",
     "text": [
      "time: 281 ms (started: 2023-08-23 19:52:41 +01:00)\n"
     ]
    }
   ],
   "source": [
    "# Displaying Results in Confusion Matrix\n",
    "cm = confusion_matrix(y_test, svc_pred)\n",
    "\n",
    "plt.figure(figsize=(12, 12))\n",
    "disp = ConfusionMatrixDisplay(confusion_matrix=cm)\n",
    "disp.plot(cmap='crest')\n",
    "plt.xticks(rotation=45)\n",
    "plt.suptitle('Stock Movement Confusion Matrix using SVM')\n",
    "plt.show()"
   ]
  },
  {
   "cell_type": "code",
   "execution_count": null,
   "id": "3c392fa1-b188-4ff4-bf88-34e1211e1d20",
   "metadata": {},
   "outputs": [],
   "source": []
  },
  {
   "cell_type": "markdown",
   "id": "bb696590-713c-406a-9099-7fe162bd9faa",
   "metadata": {},
   "source": [
    "### Decision Tree"
   ]
  },
  {
   "cell_type": "code",
   "execution_count": 294,
   "id": "86c15d12-d562-49d7-9f9b-8c9be32c95dc",
   "metadata": {
    "tags": []
   },
   "outputs": [
    {
     "name": "stdout",
     "output_type": "stream",
     "text": [
      "time: 0 ns (started: 2023-08-23 19:52:46 +01:00)\n"
     ]
    }
   ],
   "source": [
    "# import decision tree classifier\n",
    "from sklearn.tree import DecisionTreeClassifier"
   ]
  },
  {
   "cell_type": "code",
   "execution_count": 295,
   "id": "1dbe1688-c84e-4483-892d-b6bc791a01bf",
   "metadata": {
    "tags": []
   },
   "outputs": [
    {
     "name": "stdout",
     "output_type": "stream",
     "text": [
      "time: 47 ms (started: 2023-08-23 19:52:46 +01:00)\n"
     ]
    }
   ],
   "source": [
    "# instantiate the DT classifier with default parameters\n",
    "dtc_model = DecisionTreeClassifier()\n"
   ]
  },
  {
   "cell_type": "code",
   "execution_count": 296,
   "id": "55e59f05-968e-4453-8fd1-7124fcc69a0d",
   "metadata": {
    "tags": []
   },
   "outputs": [
    {
     "name": "stdout",
     "output_type": "stream",
     "text": [
      "time: 16 ms (started: 2023-08-23 19:52:46 +01:00)\n"
     ]
    }
   ],
   "source": [
    "# define search space for hyperparameters\n",
    "space_dtc = dict()\n",
    "space_dtc['criterion'] = ['gini', 'entropy']\n",
    "space_dtc['splitter'] = ['best', 'random']\n",
    "space_dtc['min_samples_split'] = [2, 4, 6, 8, 10]\n",
    "space_dtc['max_features'] = ['auto', 'sqrt', 'log2']\n",
    "\n"
   ]
  },
  {
   "cell_type": "code",
   "execution_count": 297,
   "id": "10f62ab5-4e1d-473c-be9a-8360dd7c5ef9",
   "metadata": {
    "tags": []
   },
   "outputs": [
    {
     "name": "stdout",
     "output_type": "stream",
     "text": [
      "time: 15 ms (started: 2023-08-23 19:52:46 +01:00)\n"
     ]
    }
   ],
   "source": [
    "# Grid search the hyperparameters\n",
    "dtc_search = GridSearchCV(estimator=dtc_model, param_grid=space_dtc, cv=10, n_jobs=1)\n",
    "\n"
   ]
  },
  {
   "cell_type": "code",
   "execution_count": 298,
   "id": "a8c0f805-c0a1-46fc-800b-6f9a26d37f62",
   "metadata": {
    "tags": []
   },
   "outputs": [
    {
     "name": "stdout",
     "output_type": "stream",
     "text": [
      "time: 2min 8s (started: 2023-08-23 19:52:46 +01:00)\n"
     ]
    }
   ],
   "source": [
    "# fit the DT classifier on the train set\n",
    "dtc_result = dtc_search.fit(X_train_ss, y_train)\n"
   ]
  },
  {
   "cell_type": "code",
   "execution_count": 299,
   "id": "fa53c7d4-0599-4ccb-9907-b31a8df1fc22",
   "metadata": {
    "tags": []
   },
   "outputs": [
    {
     "data": {
      "text/html": [
       "<style>#sk-container-id-21 {color: black;background-color: white;}#sk-container-id-21 pre{padding: 0;}#sk-container-id-21 div.sk-toggleable {background-color: white;}#sk-container-id-21 label.sk-toggleable__label {cursor: pointer;display: block;width: 100%;margin-bottom: 0;padding: 0.3em;box-sizing: border-box;text-align: center;}#sk-container-id-21 label.sk-toggleable__label-arrow:before {content: \"▸\";float: left;margin-right: 0.25em;color: #696969;}#sk-container-id-21 label.sk-toggleable__label-arrow:hover:before {color: black;}#sk-container-id-21 div.sk-estimator:hover label.sk-toggleable__label-arrow:before {color: black;}#sk-container-id-21 div.sk-toggleable__content {max-height: 0;max-width: 0;overflow: hidden;text-align: left;background-color: #f0f8ff;}#sk-container-id-21 div.sk-toggleable__content pre {margin: 0.2em;color: black;border-radius: 0.25em;background-color: #f0f8ff;}#sk-container-id-21 input.sk-toggleable__control:checked~div.sk-toggleable__content {max-height: 200px;max-width: 100%;overflow: auto;}#sk-container-id-21 input.sk-toggleable__control:checked~label.sk-toggleable__label-arrow:before {content: \"▾\";}#sk-container-id-21 div.sk-estimator input.sk-toggleable__control:checked~label.sk-toggleable__label {background-color: #d4ebff;}#sk-container-id-21 div.sk-label input.sk-toggleable__control:checked~label.sk-toggleable__label {background-color: #d4ebff;}#sk-container-id-21 input.sk-hidden--visually {border: 0;clip: rect(1px 1px 1px 1px);clip: rect(1px, 1px, 1px, 1px);height: 1px;margin: -1px;overflow: hidden;padding: 0;position: absolute;width: 1px;}#sk-container-id-21 div.sk-estimator {font-family: monospace;background-color: #f0f8ff;border: 1px dotted black;border-radius: 0.25em;box-sizing: border-box;margin-bottom: 0.5em;}#sk-container-id-21 div.sk-estimator:hover {background-color: #d4ebff;}#sk-container-id-21 div.sk-parallel-item::after {content: \"\";width: 100%;border-bottom: 1px solid gray;flex-grow: 1;}#sk-container-id-21 div.sk-label:hover label.sk-toggleable__label {background-color: #d4ebff;}#sk-container-id-21 div.sk-serial::before {content: \"\";position: absolute;border-left: 1px solid gray;box-sizing: border-box;top: 0;bottom: 0;left: 50%;z-index: 0;}#sk-container-id-21 div.sk-serial {display: flex;flex-direction: column;align-items: center;background-color: white;padding-right: 0.2em;padding-left: 0.2em;position: relative;}#sk-container-id-21 div.sk-item {position: relative;z-index: 1;}#sk-container-id-21 div.sk-parallel {display: flex;align-items: stretch;justify-content: center;background-color: white;position: relative;}#sk-container-id-21 div.sk-item::before, #sk-container-id-21 div.sk-parallel-item::before {content: \"\";position: absolute;border-left: 1px solid gray;box-sizing: border-box;top: 0;bottom: 0;left: 50%;z-index: -1;}#sk-container-id-21 div.sk-parallel-item {display: flex;flex-direction: column;z-index: 1;position: relative;background-color: white;}#sk-container-id-21 div.sk-parallel-item:first-child::after {align-self: flex-end;width: 50%;}#sk-container-id-21 div.sk-parallel-item:last-child::after {align-self: flex-start;width: 50%;}#sk-container-id-21 div.sk-parallel-item:only-child::after {width: 0;}#sk-container-id-21 div.sk-dashed-wrapped {border: 1px dashed gray;margin: 0 0.4em 0.5em 0.4em;box-sizing: border-box;padding-bottom: 0.4em;background-color: white;}#sk-container-id-21 div.sk-label label {font-family: monospace;font-weight: bold;display: inline-block;line-height: 1.2em;}#sk-container-id-21 div.sk-label-container {text-align: center;}#sk-container-id-21 div.sk-container {/* jupyter's `normalize.less` sets `[hidden] { display: none; }` but bootstrap.min.css set `[hidden] { display: none !important; }` so we also need the `!important` here to be able to override the default hidden behavior on the sphinx rendered scikit-learn.org. See: https://github.com/scikit-learn/scikit-learn/issues/21755 */display: inline-block !important;position: relative;}#sk-container-id-21 div.sk-text-repr-fallback {display: none;}</style><div id=\"sk-container-id-21\" class=\"sk-top-container\"><div class=\"sk-text-repr-fallback\"><pre>GridSearchCV(cv=10, estimator=DecisionTreeClassifier(), n_jobs=1,\n",
       "             param_grid={&#x27;criterion&#x27;: [&#x27;gini&#x27;, &#x27;entropy&#x27;],\n",
       "                         &#x27;max_features&#x27;: [&#x27;auto&#x27;, &#x27;sqrt&#x27;, &#x27;log2&#x27;],\n",
       "                         &#x27;min_samples_split&#x27;: [2, 4, 6, 8, 10],\n",
       "                         &#x27;splitter&#x27;: [&#x27;best&#x27;, &#x27;random&#x27;]})</pre><b>In a Jupyter environment, please rerun this cell to show the HTML representation or trust the notebook. <br />On GitHub, the HTML representation is unable to render, please try loading this page with nbviewer.org.</b></div><div class=\"sk-container\" hidden><div class=\"sk-item sk-dashed-wrapped\"><div class=\"sk-label-container\"><div class=\"sk-label sk-toggleable\"><input class=\"sk-toggleable__control sk-hidden--visually\" id=\"sk-estimator-id-29\" type=\"checkbox\" ><label for=\"sk-estimator-id-29\" class=\"sk-toggleable__label sk-toggleable__label-arrow\">GridSearchCV</label><div class=\"sk-toggleable__content\"><pre>GridSearchCV(cv=10, estimator=DecisionTreeClassifier(), n_jobs=1,\n",
       "             param_grid={&#x27;criterion&#x27;: [&#x27;gini&#x27;, &#x27;entropy&#x27;],\n",
       "                         &#x27;max_features&#x27;: [&#x27;auto&#x27;, &#x27;sqrt&#x27;, &#x27;log2&#x27;],\n",
       "                         &#x27;min_samples_split&#x27;: [2, 4, 6, 8, 10],\n",
       "                         &#x27;splitter&#x27;: [&#x27;best&#x27;, &#x27;random&#x27;]})</pre></div></div></div><div class=\"sk-parallel\"><div class=\"sk-parallel-item\"><div class=\"sk-item\"><div class=\"sk-label-container\"><div class=\"sk-label sk-toggleable\"><input class=\"sk-toggleable__control sk-hidden--visually\" id=\"sk-estimator-id-30\" type=\"checkbox\" ><label for=\"sk-estimator-id-30\" class=\"sk-toggleable__label sk-toggleable__label-arrow\">estimator: DecisionTreeClassifier</label><div class=\"sk-toggleable__content\"><pre>DecisionTreeClassifier()</pre></div></div></div><div class=\"sk-serial\"><div class=\"sk-item\"><div class=\"sk-estimator sk-toggleable\"><input class=\"sk-toggleable__control sk-hidden--visually\" id=\"sk-estimator-id-31\" type=\"checkbox\" ><label for=\"sk-estimator-id-31\" class=\"sk-toggleable__label sk-toggleable__label-arrow\">DecisionTreeClassifier</label><div class=\"sk-toggleable__content\"><pre>DecisionTreeClassifier()</pre></div></div></div></div></div></div></div></div></div></div>"
      ],
      "text/plain": [
       "GridSearchCV(cv=10, estimator=DecisionTreeClassifier(), n_jobs=1,\n",
       "             param_grid={'criterion': ['gini', 'entropy'],\n",
       "                         'max_features': ['auto', 'sqrt', 'log2'],\n",
       "                         'min_samples_split': [2, 4, 6, 8, 10],\n",
       "                         'splitter': ['best', 'random']})"
      ]
     },
     "execution_count": 299,
     "metadata": {},
     "output_type": "execute_result"
    },
    {
     "name": "stdout",
     "output_type": "stream",
     "text": [
      "time: 15 ms (started: 2023-08-23 19:54:54 +01:00)\n"
     ]
    }
   ],
   "source": [
    "dtc_result"
   ]
  },
  {
   "cell_type": "code",
   "execution_count": 300,
   "id": "5dbce3b6-52cc-4b75-8892-cce3d3a49574",
   "metadata": {
    "tags": []
   },
   "outputs": [
    {
     "name": "stdout",
     "output_type": "stream",
     "text": [
      "The best score from the search is 0.4837403912155855 \n",
      "\n",
      "time: 47 ms (started: 2023-08-23 19:54:54 +01:00)\n"
     ]
    }
   ],
   "source": [
    "# print the best score from the search\n",
    "print(f'The best score from the search is {dtc_result.best_score_}', '\\n')"
   ]
  },
  {
   "cell_type": "code",
   "execution_count": 301,
   "id": "f77cfb4a-d1b6-4502-9509-0888a4053659",
   "metadata": {
    "tags": []
   },
   "outputs": [
    {
     "name": "stdout",
     "output_type": "stream",
     "text": [
      "The best parameter from the search is {'criterion': 'gini', 'max_features': 'log2', 'min_samples_split': 2, 'splitter': 'random'}\n",
      "time: 0 ns (started: 2023-08-23 19:54:54 +01:00)\n"
     ]
    }
   ],
   "source": [
    "\n",
    "# print the best parameters from the search\n",
    "print(f'The best parameter from the search is {dtc_result.best_params_}')"
   ]
  },
  {
   "cell_type": "code",
   "execution_count": 302,
   "id": "b83660c4-1c9f-4c1e-8c12-9ca7859e52db",
   "metadata": {
    "jupyter": {
     "source_hidden": true
    },
    "tags": []
   },
   "outputs": [
    {
     "name": "stdout",
     "output_type": "stream",
     "text": [
      "time: 0 ns (started: 2023-08-23 19:54:54 +01:00)\n"
     ]
    }
   ],
   "source": [
    "\n",
    "# import decision tree classifier\n",
    "from sklearn.tree import DecisionTreeClassifier\n"
   ]
  },
  {
   "cell_type": "code",
   "execution_count": 303,
   "id": "5b18fb32-4018-4cc1-a473-d032d797d5e9",
   "metadata": {
    "tags": []
   },
   "outputs": [
    {
     "name": "stdout",
     "output_type": "stream",
     "text": [
      "time: 16 ms (started: 2023-08-23 19:54:54 +01:00)\n"
     ]
    }
   ],
   "source": [
    "# instantiate the DT classifier with the resultant hyperparameters \n",
    "dtc = DecisionTreeClassifier(splitter='best', max_features='log2', criterion='entropy', min_samples_split=2)\n"
   ]
  },
  {
   "cell_type": "code",
   "execution_count": 304,
   "id": "c331b78c-b68b-4e79-ae5a-009700addbf1",
   "metadata": {
    "tags": []
   },
   "outputs": [
    {
     "data": {
      "text/html": [
       "<style>#sk-container-id-22 {color: black;background-color: white;}#sk-container-id-22 pre{padding: 0;}#sk-container-id-22 div.sk-toggleable {background-color: white;}#sk-container-id-22 label.sk-toggleable__label {cursor: pointer;display: block;width: 100%;margin-bottom: 0;padding: 0.3em;box-sizing: border-box;text-align: center;}#sk-container-id-22 label.sk-toggleable__label-arrow:before {content: \"▸\";float: left;margin-right: 0.25em;color: #696969;}#sk-container-id-22 label.sk-toggleable__label-arrow:hover:before {color: black;}#sk-container-id-22 div.sk-estimator:hover label.sk-toggleable__label-arrow:before {color: black;}#sk-container-id-22 div.sk-toggleable__content {max-height: 0;max-width: 0;overflow: hidden;text-align: left;background-color: #f0f8ff;}#sk-container-id-22 div.sk-toggleable__content pre {margin: 0.2em;color: black;border-radius: 0.25em;background-color: #f0f8ff;}#sk-container-id-22 input.sk-toggleable__control:checked~div.sk-toggleable__content {max-height: 200px;max-width: 100%;overflow: auto;}#sk-container-id-22 input.sk-toggleable__control:checked~label.sk-toggleable__label-arrow:before {content: \"▾\";}#sk-container-id-22 div.sk-estimator input.sk-toggleable__control:checked~label.sk-toggleable__label {background-color: #d4ebff;}#sk-container-id-22 div.sk-label input.sk-toggleable__control:checked~label.sk-toggleable__label {background-color: #d4ebff;}#sk-container-id-22 input.sk-hidden--visually {border: 0;clip: rect(1px 1px 1px 1px);clip: rect(1px, 1px, 1px, 1px);height: 1px;margin: -1px;overflow: hidden;padding: 0;position: absolute;width: 1px;}#sk-container-id-22 div.sk-estimator {font-family: monospace;background-color: #f0f8ff;border: 1px dotted black;border-radius: 0.25em;box-sizing: border-box;margin-bottom: 0.5em;}#sk-container-id-22 div.sk-estimator:hover {background-color: #d4ebff;}#sk-container-id-22 div.sk-parallel-item::after {content: \"\";width: 100%;border-bottom: 1px solid gray;flex-grow: 1;}#sk-container-id-22 div.sk-label:hover label.sk-toggleable__label {background-color: #d4ebff;}#sk-container-id-22 div.sk-serial::before {content: \"\";position: absolute;border-left: 1px solid gray;box-sizing: border-box;top: 0;bottom: 0;left: 50%;z-index: 0;}#sk-container-id-22 div.sk-serial {display: flex;flex-direction: column;align-items: center;background-color: white;padding-right: 0.2em;padding-left: 0.2em;position: relative;}#sk-container-id-22 div.sk-item {position: relative;z-index: 1;}#sk-container-id-22 div.sk-parallel {display: flex;align-items: stretch;justify-content: center;background-color: white;position: relative;}#sk-container-id-22 div.sk-item::before, #sk-container-id-22 div.sk-parallel-item::before {content: \"\";position: absolute;border-left: 1px solid gray;box-sizing: border-box;top: 0;bottom: 0;left: 50%;z-index: -1;}#sk-container-id-22 div.sk-parallel-item {display: flex;flex-direction: column;z-index: 1;position: relative;background-color: white;}#sk-container-id-22 div.sk-parallel-item:first-child::after {align-self: flex-end;width: 50%;}#sk-container-id-22 div.sk-parallel-item:last-child::after {align-self: flex-start;width: 50%;}#sk-container-id-22 div.sk-parallel-item:only-child::after {width: 0;}#sk-container-id-22 div.sk-dashed-wrapped {border: 1px dashed gray;margin: 0 0.4em 0.5em 0.4em;box-sizing: border-box;padding-bottom: 0.4em;background-color: white;}#sk-container-id-22 div.sk-label label {font-family: monospace;font-weight: bold;display: inline-block;line-height: 1.2em;}#sk-container-id-22 div.sk-label-container {text-align: center;}#sk-container-id-22 div.sk-container {/* jupyter's `normalize.less` sets `[hidden] { display: none; }` but bootstrap.min.css set `[hidden] { display: none !important; }` so we also need the `!important` here to be able to override the default hidden behavior on the sphinx rendered scikit-learn.org. See: https://github.com/scikit-learn/scikit-learn/issues/21755 */display: inline-block !important;position: relative;}#sk-container-id-22 div.sk-text-repr-fallback {display: none;}</style><div id=\"sk-container-id-22\" class=\"sk-top-container\"><div class=\"sk-text-repr-fallback\"><pre>DecisionTreeClassifier(criterion=&#x27;entropy&#x27;, max_features=&#x27;log2&#x27;)</pre><b>In a Jupyter environment, please rerun this cell to show the HTML representation or trust the notebook. <br />On GitHub, the HTML representation is unable to render, please try loading this page with nbviewer.org.</b></div><div class=\"sk-container\" hidden><div class=\"sk-item\"><div class=\"sk-estimator sk-toggleable\"><input class=\"sk-toggleable__control sk-hidden--visually\" id=\"sk-estimator-id-32\" type=\"checkbox\" checked><label for=\"sk-estimator-id-32\" class=\"sk-toggleable__label sk-toggleable__label-arrow\">DecisionTreeClassifier</label><div class=\"sk-toggleable__content\"><pre>DecisionTreeClassifier(criterion=&#x27;entropy&#x27;, max_features=&#x27;log2&#x27;)</pre></div></div></div></div></div>"
      ],
      "text/plain": [
       "DecisionTreeClassifier(criterion='entropy', max_features='log2')"
      ]
     },
     "execution_count": 304,
     "metadata": {},
     "output_type": "execute_result"
    },
    {
     "name": "stdout",
     "output_type": "stream",
     "text": [
      "time: 703 ms (started: 2023-08-23 19:54:54 +01:00)\n"
     ]
    }
   ],
   "source": [
    "# fit the model on the train data\n",
    "dtc.fit(X_train_ss, y_train)\n"
   ]
  },
  {
   "cell_type": "code",
   "execution_count": 305,
   "id": "90ef0dd0-392e-469b-96cf-14ad913c9f08",
   "metadata": {
    "tags": []
   },
   "outputs": [
    {
     "data": {
      "text/plain": [
       "array([1, 1, 2, ..., 0, 0, 0])"
      ]
     },
     "execution_count": 305,
     "metadata": {},
     "output_type": "execute_result"
    },
    {
     "name": "stdout",
     "output_type": "stream",
     "text": [
      "time: 0 ns (started: 2023-08-23 19:54:55 +01:00)\n"
     ]
    }
   ],
   "source": [
    "# predict on the test set\n",
    "dtc_pred = dtc.predict(X_test_ss)\n",
    "dtc_pred"
   ]
  },
  {
   "cell_type": "code",
   "execution_count": 306,
   "id": "1a7c1bbf-9610-4622-b0dd-00fa15208585",
   "metadata": {
    "tags": []
   },
   "outputs": [
    {
     "data": {
      "text/plain": [
       "0.49909109270854374"
      ]
     },
     "execution_count": 306,
     "metadata": {},
     "output_type": "execute_result"
    },
    {
     "name": "stdout",
     "output_type": "stream",
     "text": [
      "time: 0 ns (started: 2023-08-23 19:54:55 +01:00)\n"
     ]
    }
   ],
   "source": [
    "dtc_acc = accuracy_score(y_test, dtc_pred)\n",
    "dtc_acc\n"
   ]
  },
  {
   "cell_type": "code",
   "execution_count": 308,
   "id": "8cd015ee-81fd-4e5e-9c43-47aa158f8bc9",
   "metadata": {},
   "outputs": [
    {
     "name": "stdout",
     "output_type": "stream",
     "text": [
      "Micro-Averaged Precision: 0.50\n",
      "Micro-Averaged Recall: 0.50\n",
      "time: 0 ns (started: 2023-08-23 19:54:55 +01:00)\n"
     ]
    }
   ],
   "source": [
    "from sklearn.metrics import precision_score, recall_score\n",
    "\n",
    "# Calculate micro-averaged precision and recall\n",
    "micro_precision = precision_score(y_test, dtc_pred, average='micro')\n",
    "micro_recall = recall_score(y_test, dtc_pred, average='micro')\n",
    "\n",
    "print(f\"Micro-Averaged Precision: {micro_precision:.2f}\")\n",
    "print(f\"Micro-Averaged Recall: {micro_recall:.2f}\")"
   ]
  },
  {
   "cell_type": "code",
   "execution_count": 309,
   "id": "3c42b0d5-64ae-43a9-9ffc-75b52cb75591",
   "metadata": {},
   "outputs": [
    {
     "name": "stdout",
     "output_type": "stream",
     "text": [
      "              precision    recall  f1-score   support\n",
      "\n",
      "           0       0.54      0.55      0.54      3351\n",
      "           1       0.48      0.46      0.47      3274\n",
      "           2       0.48      0.48      0.48      3277\n",
      "\n",
      "    accuracy                           0.50      9902\n",
      "   macro avg       0.50      0.50      0.50      9902\n",
      "weighted avg       0.50      0.50      0.50      9902\n",
      "\n",
      "time: 31 ms (started: 2023-08-23 19:54:55 +01:00)\n"
     ]
    }
   ],
   "source": [
    "print(classification_report(y_test, dtc_pred))"
   ]
  },
  {
   "cell_type": "markdown",
   "id": "6b129207-93ef-4b84-9d0b-95149eb06b7f",
   "metadata": {},
   "source": [
    "Weighted Avg F1-score = (0.52 * 3351 + 0.47 * 3274 + 0.46 * 3277) / 9902 ≈ 0.487\n",
    "\n",
    "The combined F1-score from the table, taking into account support, is approximately 0.487."
   ]
  },
  {
   "cell_type": "code",
   "execution_count": 310,
   "id": "6ed99cb0-cad9-4aa2-a3ba-a70680f1be77",
   "metadata": {
    "tags": []
   },
   "outputs": [
    {
     "data": {
      "text/plain": [
       "<Figure size 1200x1200 with 0 Axes>"
      ]
     },
     "metadata": {},
     "output_type": "display_data"
    },
    {
     "data": {
      "image/png": "[encoded data removed]",
      "text/plain": [
       "<Figure size 640x480 with 2 Axes>"
      ]
     },
     "metadata": {},
     "output_type": "display_data"
    },
    {
     "name": "stdout",
     "output_type": "stream",
     "text": [
      "time: 328 ms (started: 2023-08-23 19:54:55 +01:00)\n"
     ]
    }
   ],
   "source": [
    "# Displaying Results in Confusion Matrix\n",
    "cm = confusion_matrix(y_test, dtc_pred)\n",
    "\n",
    "plt.figure(figsize=(12, 12))\n",
    "disp = ConfusionMatrixDisplay(confusion_matrix=cm)\n",
    "disp.plot(cmap='crest')\n",
    "plt.xticks(rotation=45)\n",
    "plt.suptitle('Stock Movement Confusion Matrix using Decision Tree')\n",
    "plt.show()"
   ]
  },
  {
   "cell_type": "markdown",
   "id": "26946e25-b269-4342-b2d5-a1ab2daa43f1",
   "metadata": {},
   "source": [
    "### Selection of best prediction model\n",
    "From all the applied algorithms, the Decision Tree performed best by yielding an f1 score of approximately 49% on the test set of 5,556 samples. This f1 score on the test data outperformed that of SVC which had an f1 score of 39.40% and Logistics Regression’s 33.3%. Thus, the Decision Tree was selected for training the entire data."
   ]
  },
  {
   "cell_type": "code",
   "execution_count": 380,
   "id": "ebdce529-5e16-43c0-ae6a-720c61a5c431",
   "metadata": {
    "tags": []
   },
   "outputs": [
    {
     "data": {
      "text/plain": [
       "array([1, 1, 2, ..., 0, 0, 0])"
      ]
     },
     "execution_count": 380,
     "metadata": {},
     "output_type": "execute_result"
    },
    {
     "name": "stdout",
     "output_type": "stream",
     "text": [
      "time: 78 ms (started: 2023-08-24 15:37:09 +01:00)\n"
     ]
    }
   ],
   "source": [
    "# Make a prediction on the testing data using Decision Tree Classifier\n",
    "dtc_pred = dtc.predict(X_test_ss)\n",
    "dtc_pred"
   ]
  },
  {
   "cell_type": "code",
   "execution_count": 381,
   "id": "ab8ed3d9-5ac5-48d9-8ee4-d6e619d39504",
   "metadata": {
    "tags": []
   },
   "outputs": [
    {
     "name": "stdout",
     "output_type": "stream",
     "text": [
      "time: 0 ns (started: 2023-08-24 15:52:33 +01:00)\n"
     ]
    }
   ],
   "source": [
    "# Get instance IDs for the test set\n",
    "test_ids=range(len(y_test))"
   ]
  },
  {
   "cell_type": "code",
   "execution_count": 389,
   "id": "f65b4ed4-1f9b-4833-be4c-084ebfb84d20",
   "metadata": {
    "tags": []
   },
   "outputs": [
    {
     "name": "stdout",
     "output_type": "stream",
     "text": [
      "time: 0 ns (started: 2023-08-24 16:11:15 +01:00)\n"
     ]
    }
   ],
   "source": [
    "#Define a dictionary to map numeric value to nominal labels\n",
    "label_dict={0:'Flat', 1: 'Gain', 2: 'Loss' } \n"
   ]
  },
  {
   "cell_type": "code",
   "execution_count": 390,
   "id": "a43dbef7-c0cd-48cd-a80a-189981cbf24c",
   "metadata": {
    "tags": []
   },
   "outputs": [
    {
     "name": "stdout",
     "output_type": "stream",
     "text": [
      "time: 0 ns (started: 2023-08-24 16:11:16 +01:00)\n"
     ]
    }
   ],
   "source": [
    "# Convert numeric prediction to nominal labels\n",
    "y_pred_nominal=[label_dict[val] for val in dtc_pred]"
   ]
  },
  {
   "cell_type": "code",
   "execution_count": 395,
   "id": "636ce4b9-07f4-4563-a616-a946ac9a933f",
   "metadata": {
    "tags": []
   },
   "outputs": [
    {
     "data": {
      "text/html": [
       "<div>\n",
       "<style scoped>\n",
       "    .dataframe tbody tr th:only-of-type {\n",
       "        vertical-align: middle;\n",
       "    }\n",
       "\n",
       "    .dataframe tbody tr th {\n",
       "        vertical-align: top;\n",
       "    }\n",
       "\n",
       "    .dataframe thead th {\n",
       "        text-align: right;\n",
       "    }\n",
       "</style>\n",
       "<table border=\"1\" class=\"dataframe\">\n",
       "  <thead>\n",
       "    <tr style=\"text-align: right;\">\n",
       "      <th></th>\n",
       "      <th>Stock Movement prediction</th>\n",
       "    </tr>\n",
       "  </thead>\n",
       "  <tbody>\n",
       "    <tr>\n",
       "      <th>0</th>\n",
       "      <td>Gain</td>\n",
       "    </tr>\n",
       "    <tr>\n",
       "      <th>1</th>\n",
       "      <td>Gain</td>\n",
       "    </tr>\n",
       "    <tr>\n",
       "      <th>2</th>\n",
       "      <td>Loss</td>\n",
       "    </tr>\n",
       "    <tr>\n",
       "      <th>3</th>\n",
       "      <td>Loss</td>\n",
       "    </tr>\n",
       "    <tr>\n",
       "      <th>4</th>\n",
       "      <td>Gain</td>\n",
       "    </tr>\n",
       "    <tr>\n",
       "      <th>...</th>\n",
       "      <td>...</td>\n",
       "    </tr>\n",
       "    <tr>\n",
       "      <th>9897</th>\n",
       "      <td>Loss</td>\n",
       "    </tr>\n",
       "    <tr>\n",
       "      <th>9898</th>\n",
       "      <td>Gain</td>\n",
       "    </tr>\n",
       "    <tr>\n",
       "      <th>9899</th>\n",
       "      <td>Flat</td>\n",
       "    </tr>\n",
       "    <tr>\n",
       "      <th>9900</th>\n",
       "      <td>Flat</td>\n",
       "    </tr>\n",
       "    <tr>\n",
       "      <th>9901</th>\n",
       "      <td>Flat</td>\n",
       "    </tr>\n",
       "  </tbody>\n",
       "</table>\n",
       "<p>9902 rows × 1 columns</p>\n",
       "</div>"
      ],
      "text/plain": [
       "     Stock Movement prediction\n",
       "0                         Gain\n",
       "1                         Gain\n",
       "2                         Loss\n",
       "3                         Loss\n",
       "4                         Gain\n",
       "...                        ...\n",
       "9897                      Loss\n",
       "9898                      Gain\n",
       "9899                      Flat\n",
       "9900                      Flat\n",
       "9901                      Flat\n",
       "\n",
       "[9902 rows x 1 columns]"
      ]
     },
     "execution_count": 395,
     "metadata": {},
     "output_type": "execute_result"
    },
    {
     "name": "stdout",
     "output_type": "stream",
     "text": [
      "time: 46 ms (started: 2023-08-24 23:15:44 +01:00)\n"
     ]
    }
   ],
   "source": [
    "# create a DataFrame with the IDs and predicted values as columns\n",
    "pred_df = pd.DataFrame({'Stock Movement prediction': y_pred_nominal})\n",
    "pred_df"
   ]
  },
  {
   "cell_type": "code",
   "execution_count": 394,
   "id": "3b4e3c11-1cfb-4c4e-b1d9-ed6b2b8587e3",
   "metadata": {
    "tags": []
   },
   "outputs": [
    {
     "name": "stdout",
     "output_type": "stream",
     "text": [
      "time: 32 ms (started: 2023-08-24 16:13:25 +01:00)\n"
     ]
    }
   ],
   "source": [
    "# save the DataFrame to a CSV file\n",
    "pred_df.to_csv('GE Stock Price Forecasting.csv', index=False)"
   ]
  },
  {
   "cell_type": "markdown",
   "id": "9ff0621a-995d-4c0d-8fa5-83d99e4566bf",
   "metadata": {},
   "source": [
    "### Selection of best prediction model\n",
    "From all the applied algorithms, the Decision Tree performed best by yielding an f1 score of approximately 49% on the test set of 5,556 samples. This f1 score on the test data outperformed that of SVC which had an f1 score of 39.40% and Logistics Regression’s 33.3%. Thus, the Decision Tree was selected for training the entire data."
   ]
  },
  {
   "cell_type": "code",
   "execution_count": null,
   "id": "f006ec63-d110-44bd-9d3c-94034607dfbe",
   "metadata": {},
   "outputs": [],
   "source": []
  }
 ],
 "metadata": {
  "kernelspec": {
   "display_name": "Python 3 (ipykernel)",
   "language": "python",
   "name": "python3"
  },
  "language_info": {
   "codemirror_mode": {
    "name": "ipython",
    "version": 3
   },
   "file_extension": ".py",
   "mimetype": "text/x-python",
   "name": "python",
   "nbconvert_exporter": "python",
   "pygments_lexer": "ipython3",
   "version": "3.11.3"
  }
 },
 "nbformat": 4,
 "nbformat_minor": 5
}
